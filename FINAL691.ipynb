{
 "cells": [
  {
   "cell_type": "markdown",
   "id": "cc6a7412",
   "metadata": {},
   "source": [
    "# Illegal Fishing Machine Learning Project"
   ]
  },
  {
   "cell_type": "markdown",
   "id": "c40d2b0e",
   "metadata": {},
   "source": [
    "### Kelly Kai Tokunaga DTSC 691"
   ]
  },
  {
   "cell_type": "markdown",
   "id": "3f08c43b",
   "metadata": {},
   "source": [
    "### Introduction "
   ]
  },
  {
   "cell_type": "markdown",
   "id": "232cc148",
   "metadata": {},
   "source": [
    "The purpose of this project is to develop a machine learning model that can predict whether an oceanic vessel is in the act of fishing or not, and then to determine if this fishing activity is legal or not. \n",
    "\n",
    "Where did this data come from?\n",
    "This data is came from logs that are supplied by Automatic Identification System or AIS. \n",
    "AIS is a system that large vessels use at sea to identify themselves. Every few seconds a signal is sent out by this system that other boats, sattelites, and terrestrail recievers can receive. Initially this system was just meant to help improve saftey for large vessels at sea and reduced collisions but now can be used in other ways. AIS devices broadcast the vessel’s identity, location, speed, course, and other data that is useful for identification. \n",
    "I got this data from Global Fishing Watch. They have produced ML algorithms that can identify a boats activity based on this AIS data. \n",
    "\n",
    "I will be using the data provided on their website to predict whether a boat is fishing or not, and if so, determine if that activity is suspicious in anyway. \n",
    "This is an important issue because illegal fishing is a huge issue that we are facing globally. Stopping this illegal actvity is a necessary step in restoring our natural fisheries to a sustaionable level. \n",
    "Obviously, the ocean is a massice and ungovernable place. With a ML model that could identify illegal vessels from land, we could much more economically use our resources and do a better job combatting this issue. "
   ]
  },
  {
   "cell_type": "code",
   "execution_count": 27,
   "id": "aaa5fccf",
   "metadata": {},
   "outputs": [],
   "source": [
    "#standard import \n",
    "import numpy as np\n",
    "import pandas as pd\n",
    "import matplotlib.pyplot as plt"
   ]
  },
  {
   "cell_type": "markdown",
   "id": "8ad9df02",
   "metadata": {},
   "source": [
    "## Let's start with importing the fisrt of the datasets"
   ]
  },
  {
   "cell_type": "code",
   "execution_count": 3,
   "id": "5ae8ff9f",
   "metadata": {},
   "outputs": [],
   "source": [
    "#importing first dataset \n",
    "pole_and_line = pd.read_csv('pole_and_line.csv')"
   ]
  },
  {
   "cell_type": "code",
   "execution_count": 4,
   "id": "89b5cdc6",
   "metadata": {},
   "outputs": [],
   "source": [
    "#importing dataset with unknown gear type\n",
    "unknown = pd.read_csv('unknown.csv')"
   ]
  },
  {
   "cell_type": "code",
   "execution_count": 5,
   "id": "c05cf004",
   "metadata": {},
   "outputs": [],
   "source": [
    "longlines = pd.read_csv('drifting_longlines.csv')"
   ]
  },
  {
   "cell_type": "code",
   "execution_count": 6,
   "id": "0ac1a713",
   "metadata": {},
   "outputs": [],
   "source": [
    "#reading in the rest of the data frames\n",
    "trollers = pd.read_csv('trollers.csv')\n",
    "trawlers = pd.read_csv('trawlers.csv')\n",
    "purse_seines = pd.read_csv('purse_seines.csv')\n",
    "fixed_gear = pd.read_csv('fixed_gear.csv')\n"
   ]
  },
  {
   "cell_type": "markdown",
   "id": "a877d73d",
   "metadata": {},
   "source": [
    "### Just taking a look at one of the dataframes, they all contain the same features "
   ]
  },
  {
   "cell_type": "code",
   "execution_count": 7,
   "id": "724bf9e6",
   "metadata": {},
   "outputs": [
    {
     "data": {
      "text/html": [
       "<div>\n",
       "<style scoped>\n",
       "    .dataframe tbody tr th:only-of-type {\n",
       "        vertical-align: middle;\n",
       "    }\n",
       "\n",
       "    .dataframe tbody tr th {\n",
       "        vertical-align: top;\n",
       "    }\n",
       "\n",
       "    .dataframe thead th {\n",
       "        text-align: right;\n",
       "    }\n",
       "</style>\n",
       "<table border=\"1\" class=\"dataframe\">\n",
       "  <thead>\n",
       "    <tr style=\"text-align: right;\">\n",
       "      <th></th>\n",
       "      <th>mmsi</th>\n",
       "      <th>timestamp</th>\n",
       "      <th>distance_from_shore</th>\n",
       "      <th>distance_from_port</th>\n",
       "      <th>speed</th>\n",
       "      <th>course</th>\n",
       "      <th>lat</th>\n",
       "      <th>lon</th>\n",
       "      <th>is_fishing</th>\n",
       "      <th>source</th>\n",
       "    </tr>\n",
       "  </thead>\n",
       "  <tbody>\n",
       "    <tr>\n",
       "      <th>0</th>\n",
       "      <td>7.652701e+13</td>\n",
       "      <td>1.337836e+09</td>\n",
       "      <td>0.000000</td>\n",
       "      <td>3162.200195</td>\n",
       "      <td>0.0</td>\n",
       "      <td>0.000000</td>\n",
       "      <td>51.887592</td>\n",
       "      <td>4.356583</td>\n",
       "      <td>-1.0</td>\n",
       "      <td>gfw</td>\n",
       "    </tr>\n",
       "    <tr>\n",
       "      <th>1</th>\n",
       "      <td>7.652701e+13</td>\n",
       "      <td>1.338199e+09</td>\n",
       "      <td>0.000000</td>\n",
       "      <td>4999.877441</td>\n",
       "      <td>0.0</td>\n",
       "      <td>0.000000</td>\n",
       "      <td>51.242130</td>\n",
       "      <td>4.403008</td>\n",
       "      <td>-1.0</td>\n",
       "      <td>gfw</td>\n",
       "    </tr>\n",
       "    <tr>\n",
       "      <th>2</th>\n",
       "      <td>7.652701e+13</td>\n",
       "      <td>1.343752e+09</td>\n",
       "      <td>0.000000</td>\n",
       "      <td>66308.250000</td>\n",
       "      <td>8.6</td>\n",
       "      <td>292.200012</td>\n",
       "      <td>51.960873</td>\n",
       "      <td>5.196125</td>\n",
       "      <td>-1.0</td>\n",
       "      <td>gfw</td>\n",
       "    </tr>\n",
       "    <tr>\n",
       "      <th>3</th>\n",
       "      <td>7.652701e+13</td>\n",
       "      <td>1.350795e+09</td>\n",
       "      <td>0.000000</td>\n",
       "      <td>15296.682617</td>\n",
       "      <td>0.0</td>\n",
       "      <td>0.000000</td>\n",
       "      <td>51.231094</td>\n",
       "      <td>4.526647</td>\n",
       "      <td>-1.0</td>\n",
       "      <td>gfw</td>\n",
       "    </tr>\n",
       "    <tr>\n",
       "      <th>4</th>\n",
       "      <td>7.652701e+13</td>\n",
       "      <td>1.351808e+09</td>\n",
       "      <td>0.000000</td>\n",
       "      <td>15296.682617</td>\n",
       "      <td>0.0</td>\n",
       "      <td>0.000000</td>\n",
       "      <td>51.231098</td>\n",
       "      <td>4.526487</td>\n",
       "      <td>-1.0</td>\n",
       "      <td>gfw</td>\n",
       "    </tr>\n",
       "    <tr>\n",
       "      <th>...</th>\n",
       "      <td>...</td>\n",
       "      <td>...</td>\n",
       "      <td>...</td>\n",
       "      <td>...</td>\n",
       "      <td>...</td>\n",
       "      <td>...</td>\n",
       "      <td>...</td>\n",
       "      <td>...</td>\n",
       "      <td>...</td>\n",
       "      <td>...</td>\n",
       "    </tr>\n",
       "    <tr>\n",
       "      <th>166238</th>\n",
       "      <td>2.740638e+14</td>\n",
       "      <td>1.479318e+09</td>\n",
       "      <td>999.975464</td>\n",
       "      <td>35382.746094</td>\n",
       "      <td>0.0</td>\n",
       "      <td>265.500000</td>\n",
       "      <td>41.468735</td>\n",
       "      <td>36.132484</td>\n",
       "      <td>-1.0</td>\n",
       "      <td>gfw</td>\n",
       "    </tr>\n",
       "    <tr>\n",
       "      <th>166239</th>\n",
       "      <td>2.740638e+14</td>\n",
       "      <td>1.479319e+09</td>\n",
       "      <td>999.975464</td>\n",
       "      <td>35382.746094</td>\n",
       "      <td>0.0</td>\n",
       "      <td>300.100006</td>\n",
       "      <td>41.468742</td>\n",
       "      <td>36.132500</td>\n",
       "      <td>-1.0</td>\n",
       "      <td>gfw</td>\n",
       "    </tr>\n",
       "    <tr>\n",
       "      <th>166240</th>\n",
       "      <td>2.740638e+14</td>\n",
       "      <td>1.479355e+09</td>\n",
       "      <td>9848.616211</td>\n",
       "      <td>12369.013672</td>\n",
       "      <td>2.4</td>\n",
       "      <td>123.800003</td>\n",
       "      <td>41.379627</td>\n",
       "      <td>36.371731</td>\n",
       "      <td>-1.0</td>\n",
       "      <td>gfw</td>\n",
       "    </tr>\n",
       "    <tr>\n",
       "      <th>166241</th>\n",
       "      <td>2.740638e+14</td>\n",
       "      <td>1.479356e+09</td>\n",
       "      <td>9433.749023</td>\n",
       "      <td>11704.412109</td>\n",
       "      <td>2.9</td>\n",
       "      <td>120.000000</td>\n",
       "      <td>41.370407</td>\n",
       "      <td>36.387154</td>\n",
       "      <td>-1.0</td>\n",
       "      <td>gfw</td>\n",
       "    </tr>\n",
       "    <tr>\n",
       "      <th>166242</th>\n",
       "      <td>2.740638e+14</td>\n",
       "      <td>1.479357e+09</td>\n",
       "      <td>10629.884766</td>\n",
       "      <td>12206.255859</td>\n",
       "      <td>2.8</td>\n",
       "      <td>105.800003</td>\n",
       "      <td>41.363972</td>\n",
       "      <td>36.405308</td>\n",
       "      <td>-1.0</td>\n",
       "      <td>gfw</td>\n",
       "    </tr>\n",
       "  </tbody>\n",
       "</table>\n",
       "<p>166243 rows × 10 columns</p>\n",
       "</div>"
      ],
      "text/plain": [
       "                mmsi     timestamp  distance_from_shore  distance_from_port  \\\n",
       "0       7.652701e+13  1.337836e+09             0.000000         3162.200195   \n",
       "1       7.652701e+13  1.338199e+09             0.000000         4999.877441   \n",
       "2       7.652701e+13  1.343752e+09             0.000000        66308.250000   \n",
       "3       7.652701e+13  1.350795e+09             0.000000        15296.682617   \n",
       "4       7.652701e+13  1.351808e+09             0.000000        15296.682617   \n",
       "...              ...           ...                  ...                 ...   \n",
       "166238  2.740638e+14  1.479318e+09           999.975464        35382.746094   \n",
       "166239  2.740638e+14  1.479319e+09           999.975464        35382.746094   \n",
       "166240  2.740638e+14  1.479355e+09          9848.616211        12369.013672   \n",
       "166241  2.740638e+14  1.479356e+09          9433.749023        11704.412109   \n",
       "166242  2.740638e+14  1.479357e+09         10629.884766        12206.255859   \n",
       "\n",
       "        speed      course        lat        lon  is_fishing source  \n",
       "0         0.0    0.000000  51.887592   4.356583        -1.0    gfw  \n",
       "1         0.0    0.000000  51.242130   4.403008        -1.0    gfw  \n",
       "2         8.6  292.200012  51.960873   5.196125        -1.0    gfw  \n",
       "3         0.0    0.000000  51.231094   4.526647        -1.0    gfw  \n",
       "4         0.0    0.000000  51.231098   4.526487        -1.0    gfw  \n",
       "...       ...         ...        ...        ...         ...    ...  \n",
       "166238    0.0  265.500000  41.468735  36.132484        -1.0    gfw  \n",
       "166239    0.0  300.100006  41.468742  36.132500        -1.0    gfw  \n",
       "166240    2.4  123.800003  41.379627  36.371731        -1.0    gfw  \n",
       "166241    2.9  120.000000  41.370407  36.387154        -1.0    gfw  \n",
       "166242    2.8  105.800003  41.363972  36.405308        -1.0    gfw  \n",
       "\n",
       "[166243 rows x 10 columns]"
      ]
     },
     "execution_count": 7,
     "metadata": {},
     "output_type": "execute_result"
    }
   ],
   "source": [
    "trollers"
   ]
  },
  {
   "cell_type": "markdown",
   "id": "da7fed8a",
   "metadata": {},
   "source": [
    "## Merging data set into one large dataset"
   ]
  },
  {
   "cell_type": "code",
   "execution_count": 11,
   "id": "ae36b857",
   "metadata": {},
   "outputs": [],
   "source": [
    "#join all data sets into one with a new column, gear type \n",
    "#first add a column to each called, 'gear_type'\n",
    "dataframes = [pole_and_line,unknown,longlines,trollers,trawlers,purse_seines,fixed_gear]\n",
    "gear_type = ['trollers','trawlers','purse_seines','fixed_gear','longlines','unknown','pole_and_line']\n",
    "for i in range(len(dataframes)):\n",
    "    dataframes[i]['gear_type'] = gear_type[i]\n"
   ]
  },
  {
   "cell_type": "code",
   "execution_count": 291,
   "id": "bae8b7a5",
   "metadata": {},
   "outputs": [
    {
     "data": {
      "text/html": [
       "<div>\n",
       "<style scoped>\n",
       "    .dataframe tbody tr th:only-of-type {\n",
       "        vertical-align: middle;\n",
       "    }\n",
       "\n",
       "    .dataframe tbody tr th {\n",
       "        vertical-align: top;\n",
       "    }\n",
       "\n",
       "    .dataframe thead th {\n",
       "        text-align: right;\n",
       "    }\n",
       "</style>\n",
       "<table border=\"1\" class=\"dataframe\">\n",
       "  <thead>\n",
       "    <tr style=\"text-align: right;\">\n",
       "      <th></th>\n",
       "      <th>mmsi</th>\n",
       "      <th>timestamp</th>\n",
       "      <th>distance_from_shore</th>\n",
       "      <th>distance_from_port</th>\n",
       "      <th>speed</th>\n",
       "      <th>course</th>\n",
       "      <th>lat</th>\n",
       "      <th>lon</th>\n",
       "      <th>is_fishing</th>\n",
       "      <th>source</th>\n",
       "      <th>gear_type</th>\n",
       "    </tr>\n",
       "  </thead>\n",
       "  <tbody>\n",
       "    <tr>\n",
       "      <th>0</th>\n",
       "      <td>7.652701e+13</td>\n",
       "      <td>1.337836e+09</td>\n",
       "      <td>0.0</td>\n",
       "      <td>3162.200195</td>\n",
       "      <td>0.0</td>\n",
       "      <td>0.000000</td>\n",
       "      <td>51.887592</td>\n",
       "      <td>4.356583</td>\n",
       "      <td>-1.0</td>\n",
       "      <td>gfw</td>\n",
       "      <td>fixed_gear</td>\n",
       "    </tr>\n",
       "    <tr>\n",
       "      <th>1</th>\n",
       "      <td>7.652701e+13</td>\n",
       "      <td>1.338199e+09</td>\n",
       "      <td>0.0</td>\n",
       "      <td>4999.877441</td>\n",
       "      <td>0.0</td>\n",
       "      <td>0.000000</td>\n",
       "      <td>51.242130</td>\n",
       "      <td>4.403008</td>\n",
       "      <td>-1.0</td>\n",
       "      <td>gfw</td>\n",
       "      <td>fixed_gear</td>\n",
       "    </tr>\n",
       "    <tr>\n",
       "      <th>2</th>\n",
       "      <td>7.652701e+13</td>\n",
       "      <td>1.343752e+09</td>\n",
       "      <td>0.0</td>\n",
       "      <td>66308.250000</td>\n",
       "      <td>8.6</td>\n",
       "      <td>292.200012</td>\n",
       "      <td>51.960873</td>\n",
       "      <td>5.196125</td>\n",
       "      <td>-1.0</td>\n",
       "      <td>gfw</td>\n",
       "      <td>fixed_gear</td>\n",
       "    </tr>\n",
       "    <tr>\n",
       "      <th>3</th>\n",
       "      <td>7.652701e+13</td>\n",
       "      <td>1.350795e+09</td>\n",
       "      <td>0.0</td>\n",
       "      <td>15296.682617</td>\n",
       "      <td>0.0</td>\n",
       "      <td>0.000000</td>\n",
       "      <td>51.231094</td>\n",
       "      <td>4.526647</td>\n",
       "      <td>-1.0</td>\n",
       "      <td>gfw</td>\n",
       "      <td>fixed_gear</td>\n",
       "    </tr>\n",
       "    <tr>\n",
       "      <th>4</th>\n",
       "      <td>7.652701e+13</td>\n",
       "      <td>1.351808e+09</td>\n",
       "      <td>0.0</td>\n",
       "      <td>15296.682617</td>\n",
       "      <td>0.0</td>\n",
       "      <td>0.000000</td>\n",
       "      <td>51.231098</td>\n",
       "      <td>4.526487</td>\n",
       "      <td>-1.0</td>\n",
       "      <td>gfw</td>\n",
       "      <td>fixed_gear</td>\n",
       "    </tr>\n",
       "    <tr>\n",
       "      <th>...</th>\n",
       "      <td>...</td>\n",
       "      <td>...</td>\n",
       "      <td>...</td>\n",
       "      <td>...</td>\n",
       "      <td>...</td>\n",
       "      <td>...</td>\n",
       "      <td>...</td>\n",
       "      <td>...</td>\n",
       "      <td>...</td>\n",
       "      <td>...</td>\n",
       "      <td>...</td>\n",
       "    </tr>\n",
       "    <tr>\n",
       "      <th>28581393</th>\n",
       "      <td>2.145727e+14</td>\n",
       "      <td>1.478701e+09</td>\n",
       "      <td>0.0</td>\n",
       "      <td>24697.572266</td>\n",
       "      <td>0.1</td>\n",
       "      <td>101.400002</td>\n",
       "      <td>32.735428</td>\n",
       "      <td>-16.734407</td>\n",
       "      <td>-1.0</td>\n",
       "      <td>gfw</td>\n",
       "      <td>trollers</td>\n",
       "    </tr>\n",
       "    <tr>\n",
       "      <th>28581394</th>\n",
       "      <td>2.145727e+14</td>\n",
       "      <td>1.479122e+09</td>\n",
       "      <td>0.0</td>\n",
       "      <td>24697.572266</td>\n",
       "      <td>0.1</td>\n",
       "      <td>148.600006</td>\n",
       "      <td>32.735401</td>\n",
       "      <td>-16.734411</td>\n",
       "      <td>-1.0</td>\n",
       "      <td>gfw</td>\n",
       "      <td>trollers</td>\n",
       "    </tr>\n",
       "    <tr>\n",
       "      <th>28581395</th>\n",
       "      <td>2.145727e+14</td>\n",
       "      <td>1.479191e+09</td>\n",
       "      <td>0.0</td>\n",
       "      <td>24697.572266</td>\n",
       "      <td>0.1</td>\n",
       "      <td>153.899994</td>\n",
       "      <td>32.735405</td>\n",
       "      <td>-16.734396</td>\n",
       "      <td>-1.0</td>\n",
       "      <td>gfw</td>\n",
       "      <td>trollers</td>\n",
       "    </tr>\n",
       "    <tr>\n",
       "      <th>28581396</th>\n",
       "      <td>2.145727e+14</td>\n",
       "      <td>1.479202e+09</td>\n",
       "      <td>0.0</td>\n",
       "      <td>24697.572266</td>\n",
       "      <td>0.1</td>\n",
       "      <td>331.100006</td>\n",
       "      <td>32.735413</td>\n",
       "      <td>-16.734430</td>\n",
       "      <td>-1.0</td>\n",
       "      <td>gfw</td>\n",
       "      <td>trollers</td>\n",
       "    </tr>\n",
       "    <tr>\n",
       "      <th>28581397</th>\n",
       "      <td>2.145727e+14</td>\n",
       "      <td>1.479251e+09</td>\n",
       "      <td>0.0</td>\n",
       "      <td>24697.572266</td>\n",
       "      <td>0.0</td>\n",
       "      <td>88.699997</td>\n",
       "      <td>32.735428</td>\n",
       "      <td>-16.734396</td>\n",
       "      <td>-1.0</td>\n",
       "      <td>gfw</td>\n",
       "      <td>trollers</td>\n",
       "    </tr>\n",
       "  </tbody>\n",
       "</table>\n",
       "<p>28581398 rows × 11 columns</p>\n",
       "</div>"
      ],
      "text/plain": [
       "                  mmsi     timestamp  distance_from_shore  distance_from_port  \\\n",
       "0         7.652701e+13  1.337836e+09                  0.0         3162.200195   \n",
       "1         7.652701e+13  1.338199e+09                  0.0         4999.877441   \n",
       "2         7.652701e+13  1.343752e+09                  0.0        66308.250000   \n",
       "3         7.652701e+13  1.350795e+09                  0.0        15296.682617   \n",
       "4         7.652701e+13  1.351808e+09                  0.0        15296.682617   \n",
       "...                ...           ...                  ...                 ...   \n",
       "28581393  2.145727e+14  1.478701e+09                  0.0        24697.572266   \n",
       "28581394  2.145727e+14  1.479122e+09                  0.0        24697.572266   \n",
       "28581395  2.145727e+14  1.479191e+09                  0.0        24697.572266   \n",
       "28581396  2.145727e+14  1.479202e+09                  0.0        24697.572266   \n",
       "28581397  2.145727e+14  1.479251e+09                  0.0        24697.572266   \n",
       "\n",
       "          speed      course        lat        lon  is_fishing source  \\\n",
       "0           0.0    0.000000  51.887592   4.356583        -1.0    gfw   \n",
       "1           0.0    0.000000  51.242130   4.403008        -1.0    gfw   \n",
       "2           8.6  292.200012  51.960873   5.196125        -1.0    gfw   \n",
       "3           0.0    0.000000  51.231094   4.526647        -1.0    gfw   \n",
       "4           0.0    0.000000  51.231098   4.526487        -1.0    gfw   \n",
       "...         ...         ...        ...        ...         ...    ...   \n",
       "28581393    0.1  101.400002  32.735428 -16.734407        -1.0    gfw   \n",
       "28581394    0.1  148.600006  32.735401 -16.734411        -1.0    gfw   \n",
       "28581395    0.1  153.899994  32.735405 -16.734396        -1.0    gfw   \n",
       "28581396    0.1  331.100006  32.735413 -16.734430        -1.0    gfw   \n",
       "28581397    0.0   88.699997  32.735428 -16.734396        -1.0    gfw   \n",
       "\n",
       "           gear_type  \n",
       "0         fixed_gear  \n",
       "1         fixed_gear  \n",
       "2         fixed_gear  \n",
       "3         fixed_gear  \n",
       "4         fixed_gear  \n",
       "...              ...  \n",
       "28581393    trollers  \n",
       "28581394    trollers  \n",
       "28581395    trollers  \n",
       "28581396    trollers  \n",
       "28581397    trollers  \n",
       "\n",
       "[28581398 rows x 11 columns]"
      ]
     },
     "execution_count": 291,
     "metadata": {},
     "output_type": "execute_result"
    }
   ],
   "source": [
    "\n",
    "#concatinate all data frames\n",
    "all_data = pd.concat(dataframes)\n",
    "all_data = all_data.reset_index(drop = True)\n",
    "all_data"
   ]
  },
  {
   "cell_type": "markdown",
   "id": "0836039f",
   "metadata": {},
   "source": [
    "### Dropping the instances with no data for the is_fishing feature"
   ]
  },
  {
   "cell_type": "code",
   "execution_count": 13,
   "id": "3a5a0d2d",
   "metadata": {},
   "outputs": [],
   "source": [
    "#creating a list of indices that do not have fishing data\n",
    "no_fishing_data = []\n",
    "for i in range(len(all_data)):\n",
    "    if all_data.is_fishing[i] == -1:\n",
    "        no_fishing_data.append(i)"
   ]
  },
  {
   "cell_type": "code",
   "execution_count": 14,
   "id": "b77eed56",
   "metadata": {},
   "outputs": [
    {
     "data": {
      "text/plain": [
       "28027543"
      ]
     },
     "execution_count": 14,
     "metadata": {},
     "output_type": "execute_result"
    }
   ],
   "source": [
    "len(no_fishing_data)"
   ]
  },
  {
   "cell_type": "code",
   "execution_count": 15,
   "id": "2df21c8f",
   "metadata": {},
   "outputs": [],
   "source": [
    "#dropping the no fishing data instances \n",
    "all_data = all_data.drop(no_fishing_data)"
   ]
  },
  {
   "cell_type": "code",
   "execution_count": 16,
   "id": "84f84ac7",
   "metadata": {},
   "outputs": [],
   "source": [
    "#dropping nulls and resetting indices \n",
    "all_data = all_data.reset_index(drop=True)\n",
    "all_data = all_data.dropna()\n"
   ]
  },
  {
   "cell_type": "code",
   "execution_count": 17,
   "id": "f41b8211",
   "metadata": {},
   "outputs": [],
   "source": [
    "#dropping source column\n",
    "all_data = all_data.drop(columns = 'source')"
   ]
  },
  {
   "cell_type": "code",
   "execution_count": 18,
   "id": "2a152e1b",
   "metadata": {},
   "outputs": [],
   "source": [
    "# again resetting indices \n",
    "all_data = all_data.reset_index(drop=True)"
   ]
  },
  {
   "cell_type": "markdown",
   "id": "3bf7e285",
   "metadata": {},
   "source": [
    "## Checking for balance "
   ]
  },
  {
   "cell_type": "code",
   "execution_count": 20,
   "id": "3b12ed15",
   "metadata": {},
   "outputs": [],
   "source": [
    "#counting number of instances of fishing and non fishing insatnces \n",
    "fishing = 0 \n",
    "non_fishing = 0\n",
    "dataframes = [trollers,trawlers,purse_seines,fixed_gear,longlines,unknown,pole_and_line]\n",
    "for i in range(len(dataframes)):\n",
    "    for j in range(len(dataframes[i])):\n",
    "        if dataframes[i].is_fishing[j] > 0:\n",
    "            fishing = fishing + 1\n",
    "        elif dataframes[i].is_fishing[j] ==0:\n",
    "            non_fishing = non_fishing + 1\n",
    "\n"
   ]
  },
  {
   "cell_type": "code",
   "execution_count": 21,
   "id": "4eb94712",
   "metadata": {},
   "outputs": [
    {
     "name": "stdout",
     "output_type": "stream",
     "text": [
      "The percent of fishing vessels is: 46.56%\n"
     ]
    }
   ],
   "source": [
    "#checking for balance in the data set for fishing and non fishing instances. \n",
    "q = round(fishing/(fishing+non_fishing) * 100,2)\n",
    "print('The percent of fishing vessels is: ' + str(q) + '%')"
   ]
  },
  {
   "cell_type": "code",
   "execution_count": 22,
   "id": "936269e5",
   "metadata": {},
   "outputs": [
    {
     "data": {
      "text/plain": [
       "['trollers',\n",
       " 'trawlers',\n",
       " 'purse_seines',\n",
       " 'fixed_gear',\n",
       " 'longlines',\n",
       " 'unknown',\n",
       " 'pole_and_line']"
      ]
     },
     "execution_count": 22,
     "metadata": {},
     "output_type": "execute_result"
    }
   ],
   "source": [
    "#creating list of all different types of fishing gear\n",
    "fishing_gear = []\n",
    "for i in range(len(all_data)):\n",
    "    if all_data.gear_type[i] not in fishing_gear:\n",
    "        fishing_gear.append(all_data.gear_type[i])\n",
    "fishing_gear"
   ]
  },
  {
   "cell_type": "code",
   "execution_count": 23,
   "id": "1f952f71",
   "metadata": {},
   "outputs": [],
   "source": [
    "#creating lists and dictionaries number of instances for fishing and for non fishing for each type of boat\n",
    "#checking for a balnced data set\n",
    "gear_fish_only = all_data.drop(columns = ['mmsi','timestamp','distance_from_shore','distance_from_port','speed','course','lat','lon'])\n",
    "fishing_count = []\n",
    "not_fishing_count = []\n",
    "fishing_dict = {}\n",
    "not_fishing_dict = {}\n",
    "for i in range(len(fishing_gear)):\n",
    "    index_fish = []\n",
    "    index_not_fish = []\n",
    "    for j in range(len(gear_fish_only)):\n",
    "        if gear_fish_only.gear_type[j] == fishing_gear[i] and gear_fish_only.is_fishing[j] == 0:\n",
    "            index_not_fish.append(j)\n",
    "        elif gear_fish_only.gear_type[j] == fishing_gear[i] and gear_fish_only.is_fishing[j] > 0:\n",
    "            index_fish.append(j)\n",
    "    fishing_count.append(len(index_fish))\n",
    "    not_fishing_count.append(len(index_not_fish))\n",
    "    fishing_dict[fishing_gear[i]] = len(index_fish)\n",
    "    not_fishing_dict[fishing_gear[i]] = len(index_not_fish)\n",
    "    \n",
    "    \n",
    "            "
   ]
  },
  {
   "cell_type": "code",
   "execution_count": 24,
   "id": "21aa746c",
   "metadata": {},
   "outputs": [
    {
     "data": {
      "text/plain": [
       "{'trollers': 1074,\n",
       " 'trawlers': 33961,\n",
       " 'purse_seines': 140167,\n",
       " 'fixed_gear': 3099,\n",
       " 'longlines': 64394,\n",
       " 'unknown': 3112,\n",
       " 'pole_and_line': 12068}"
      ]
     },
     "execution_count": 24,
     "metadata": {},
     "output_type": "execute_result"
    }
   ],
   "source": [
    "fishing_dict"
   ]
  },
  {
   "cell_type": "code",
   "execution_count": 25,
   "id": "4292d5a0",
   "metadata": {},
   "outputs": [
    {
     "data": {
      "text/plain": [
       "{'trollers': 3176,\n",
       " 'trawlers': 45957,\n",
       " 'purse_seines': 79574,\n",
       " 'fixed_gear': 4746,\n",
       " 'longlines': 112998,\n",
       " 'unknown': 19737,\n",
       " 'pole_and_line': 29790}"
      ]
     },
     "execution_count": 25,
     "metadata": {},
     "output_type": "execute_result"
    }
   ],
   "source": [
    "not_fishing_dict"
   ]
  },
  {
   "cell_type": "code",
   "execution_count": 28,
   "id": "df6128cc",
   "metadata": {
    "scrolled": true
   },
   "outputs": [
    {
     "data": {
      "image/png": "[encoded data removed]",
      "text/plain": [
       "<Figure size 640x480 with 1 Axes>"
      ]
     },
     "metadata": {},
     "output_type": "display_data"
    }
   ],
   "source": [
    "#visualizing the imbalance in each data set \n",
    "data = [fishing_count,\n",
    "not_fishing_count]\n",
    "X = np.arange(7)\n",
    "fig = plt.figure()\n",
    "ax = fig.add_axes([0,0,1,1])\n",
    "ax.bar(X + 0.00, data[0], color = 'b', width = 0.25)\n",
    "ax.bar(X + 0.25, data[1], color = 'g', width = 0.25)\n",
    "plt.xticks(range(len(gear_type)), gear_type)\n",
    "plt.title('Fishing vs Nonfishing')\n",
    "plt.legend(labels =['Fishing','Nonfishing'])\n",
    "plt.ylabel('Instances')\n",
    "plt.xlabel('Gear Type')\n",
    "plt.show()"
   ]
  },
  {
   "cell_type": "markdown",
   "id": "d529cd4a",
   "metadata": {},
   "source": [
    "#### For this data any 'is_fishing' instance over zero is a fishing instance, simply changing these positive values to ones, to make this a binary classification problem "
   ]
  },
  {
   "cell_type": "code",
   "execution_count": 29,
   "id": "221fe0a3",
   "metadata": {},
   "outputs": [],
   "source": [
    "#changing fishing values to 1 for true instead of any value over 1\n",
    "new_is_fishing = []\n",
    "for i in range(len(all_data['is_fishing'])):\n",
    "    if all_data['is_fishing'][i] > 0:\n",
    "        new_is_fishing.append(1)\n",
    "    else:\n",
    "        new_is_fishing.append(0)\n",
    "new_is_fishing\n",
    "all_data = all_data.drop(columns = ['is_fishing'])"
   ]
  },
  {
   "cell_type": "code",
   "execution_count": 30,
   "id": "0fc32691",
   "metadata": {},
   "outputs": [
    {
     "name": "stdout",
     "output_type": "stream",
     "text": [
      "<class 'pandas.core.frame.DataFrame'>\n",
      "RangeIndex: 553853 entries, 0 to 553852\n",
      "Data columns (total 10 columns):\n",
      " #   Column               Non-Null Count   Dtype  \n",
      "---  ------               --------------   -----  \n",
      " 0   mmsi                 553853 non-null  float64\n",
      " 1   timestamp            553853 non-null  float64\n",
      " 2   distance_from_shore  553853 non-null  float64\n",
      " 3   distance_from_port   553853 non-null  float64\n",
      " 4   speed                553853 non-null  float64\n",
      " 5   course               553853 non-null  float64\n",
      " 6   lat                  553853 non-null  float64\n",
      " 7   lon                  553853 non-null  float64\n",
      " 8   gear_type            553853 non-null  object \n",
      " 9   is_fishing           553853 non-null  int64  \n",
      "dtypes: float64(8), int64(1), object(1)\n",
      "memory usage: 42.3+ MB\n"
     ]
    }
   ],
   "source": [
    "#adding the 1 and 0 values into dataset \n",
    "all_data['is_fishing'] = new_is_fishing\n",
    "all_data.info()"
   ]
  },
  {
   "cell_type": "code",
   "execution_count": 31,
   "id": "30035a04",
   "metadata": {},
   "outputs": [
    {
     "data": {
      "text/plain": [
       "0    295978\n",
       "1    257875\n",
       "Name: is_fishing, dtype: int64"
      ]
     },
     "execution_count": 31,
     "metadata": {},
     "output_type": "execute_result"
    }
   ],
   "source": [
    "#checking for balance over the whole data set \n",
    "all_data['is_fishing'].value_counts()"
   ]
  },
  {
   "cell_type": "code",
   "execution_count": 32,
   "id": "dcc94892",
   "metadata": {
    "scrolled": true
   },
   "outputs": [
    {
     "data": {
      "text/html": [
       "<div>\n",
       "<style scoped>\n",
       "    .dataframe tbody tr th:only-of-type {\n",
       "        vertical-align: middle;\n",
       "    }\n",
       "\n",
       "    .dataframe tbody tr th {\n",
       "        vertical-align: top;\n",
       "    }\n",
       "\n",
       "    .dataframe thead th {\n",
       "        text-align: right;\n",
       "    }\n",
       "</style>\n",
       "<table border=\"1\" class=\"dataframe\">\n",
       "  <thead>\n",
       "    <tr style=\"text-align: right;\">\n",
       "      <th></th>\n",
       "      <th>mmsi</th>\n",
       "      <th>timestamp</th>\n",
       "      <th>distance_from_shore</th>\n",
       "      <th>distance_from_port</th>\n",
       "      <th>speed</th>\n",
       "      <th>course</th>\n",
       "      <th>lat</th>\n",
       "      <th>lon</th>\n",
       "      <th>is_fishing</th>\n",
       "    </tr>\n",
       "  </thead>\n",
       "  <tbody>\n",
       "    <tr>\n",
       "      <th>count</th>\n",
       "      <td>5.538530e+05</td>\n",
       "      <td>5.538530e+05</td>\n",
       "      <td>5.538530e+05</td>\n",
       "      <td>5.538530e+05</td>\n",
       "      <td>553853.000000</td>\n",
       "      <td>553853.000000</td>\n",
       "      <td>553853.000000</td>\n",
       "      <td>553853.000000</td>\n",
       "      <td>553853.000000</td>\n",
       "    </tr>\n",
       "    <tr>\n",
       "      <th>mean</th>\n",
       "      <td>1.487301e+14</td>\n",
       "      <td>1.420221e+09</td>\n",
       "      <td>2.942271e+05</td>\n",
       "      <td>4.143538e+05</td>\n",
       "      <td>3.949039</td>\n",
       "      <td>180.697572</td>\n",
       "      <td>21.946882</td>\n",
       "      <td>1.051767</td>\n",
       "      <td>0.465602</td>\n",
       "    </tr>\n",
       "    <tr>\n",
       "      <th>std</th>\n",
       "      <td>8.861800e+13</td>\n",
       "      <td>2.263571e+07</td>\n",
       "      <td>4.507028e+05</td>\n",
       "      <td>5.797200e+05</td>\n",
       "      <td>4.042098</td>\n",
       "      <td>111.229785</td>\n",
       "      <td>36.414888</td>\n",
       "      <td>80.643892</td>\n",
       "      <td>0.498816</td>\n",
       "    </tr>\n",
       "    <tr>\n",
       "      <th>min</th>\n",
       "      <td>1.252340e+12</td>\n",
       "      <td>1.325410e+09</td>\n",
       "      <td>0.000000e+00</td>\n",
       "      <td>0.000000e+00</td>\n",
       "      <td>0.000000</td>\n",
       "      <td>0.000000</td>\n",
       "      <td>-50.192177</td>\n",
       "      <td>-179.999115</td>\n",
       "      <td>0.000000</td>\n",
       "    </tr>\n",
       "    <tr>\n",
       "      <th>25%</th>\n",
       "      <td>6.960986e+13</td>\n",
       "      <td>1.409955e+09</td>\n",
       "      <td>0.000000e+00</td>\n",
       "      <td>1.299968e+04</td>\n",
       "      <td>0.000000</td>\n",
       "      <td>85.000000</td>\n",
       "      <td>-14.059834</td>\n",
       "      <td>-24.562532</td>\n",
       "      <td>0.000000</td>\n",
       "    </tr>\n",
       "    <tr>\n",
       "      <th>50%</th>\n",
       "      <td>1.341986e+14</td>\n",
       "      <td>1.421489e+09</td>\n",
       "      <td>5.586454e+04</td>\n",
       "      <td>1.015504e+05</td>\n",
       "      <td>3.100000</td>\n",
       "      <td>185.399994</td>\n",
       "      <td>35.928215</td>\n",
       "      <td>4.584265</td>\n",
       "      <td>0.000000</td>\n",
       "    </tr>\n",
       "    <tr>\n",
       "      <th>75%</th>\n",
       "      <td>2.299265e+14</td>\n",
       "      <td>1.435348e+09</td>\n",
       "      <td>4.758307e+05</td>\n",
       "      <td>6.478251e+05</td>\n",
       "      <td>7.100000</td>\n",
       "      <td>276.000000</td>\n",
       "      <td>53.650833</td>\n",
       "      <td>18.423798</td>\n",
       "      <td>1.000000</td>\n",
       "    </tr>\n",
       "    <tr>\n",
       "      <th>max</th>\n",
       "      <td>2.812058e+14</td>\n",
       "      <td>1.472890e+09</td>\n",
       "      <td>2.853625e+06</td>\n",
       "      <td>3.836963e+06</td>\n",
       "      <td>102.300003</td>\n",
       "      <td>511.000000</td>\n",
       "      <td>78.925163</td>\n",
       "      <td>179.991486</td>\n",
       "      <td>1.000000</td>\n",
       "    </tr>\n",
       "  </tbody>\n",
       "</table>\n",
       "</div>"
      ],
      "text/plain": [
       "               mmsi     timestamp  distance_from_shore  distance_from_port  \\\n",
       "count  5.538530e+05  5.538530e+05         5.538530e+05        5.538530e+05   \n",
       "mean   1.487301e+14  1.420221e+09         2.942271e+05        4.143538e+05   \n",
       "std    8.861800e+13  2.263571e+07         4.507028e+05        5.797200e+05   \n",
       "min    1.252340e+12  1.325410e+09         0.000000e+00        0.000000e+00   \n",
       "25%    6.960986e+13  1.409955e+09         0.000000e+00        1.299968e+04   \n",
       "50%    1.341986e+14  1.421489e+09         5.586454e+04        1.015504e+05   \n",
       "75%    2.299265e+14  1.435348e+09         4.758307e+05        6.478251e+05   \n",
       "max    2.812058e+14  1.472890e+09         2.853625e+06        3.836963e+06   \n",
       "\n",
       "               speed         course            lat            lon  \\\n",
       "count  553853.000000  553853.000000  553853.000000  553853.000000   \n",
       "mean        3.949039     180.697572      21.946882       1.051767   \n",
       "std         4.042098     111.229785      36.414888      80.643892   \n",
       "min         0.000000       0.000000     -50.192177    -179.999115   \n",
       "25%         0.000000      85.000000     -14.059834     -24.562532   \n",
       "50%         3.100000     185.399994      35.928215       4.584265   \n",
       "75%         7.100000     276.000000      53.650833      18.423798   \n",
       "max       102.300003     511.000000      78.925163     179.991486   \n",
       "\n",
       "          is_fishing  \n",
       "count  553853.000000  \n",
       "mean        0.465602  \n",
       "std         0.498816  \n",
       "min         0.000000  \n",
       "25%         0.000000  \n",
       "50%         0.000000  \n",
       "75%         1.000000  \n",
       "max         1.000000  "
      ]
     },
     "execution_count": 32,
     "metadata": {},
     "output_type": "execute_result"
    }
   ],
   "source": [
    "\n",
    "all_data.describe()"
   ]
  },
  {
   "cell_type": "code",
   "execution_count": 34,
   "id": "977f04e5",
   "metadata": {},
   "outputs": [
    {
     "data": {
      "image/png": "[encoded data removed]",
      "text/plain": [
       "<Figure size 2000x1500 with 9 Axes>"
      ]
     },
     "metadata": {},
     "output_type": "display_data"
    },
    {
     "data": {
      "image/png": "[encoded data removed]",
      "text/plain": [
       "<Figure size 2000x1500 with 9 Axes>"
      ]
     },
     "metadata": {},
     "output_type": "display_data"
    }
   ],
   "source": [
    "#histograms of each feature\n",
    "all_data.hist(bins=50, figsize=(20,15))\n",
    "plt.show() "
   ]
  },
  {
   "cell_type": "markdown",
   "id": "a9ad7e87",
   "metadata": {},
   "source": [
    "## splitting the dataset into features and targets "
   ]
  },
  {
   "cell_type": "code",
   "execution_count": 35,
   "id": "f59ef08f",
   "metadata": {},
   "outputs": [],
   "source": [
    "from sklearn.model_selection import train_test_split"
   ]
  },
  {
   "cell_type": "code",
   "execution_count": 239,
   "id": "d02073e6",
   "metadata": {},
   "outputs": [
    {
     "data": {
      "text/plain": [
       "0         0\n",
       "1         0\n",
       "2         0\n",
       "3         0\n",
       "4         0\n",
       "         ..\n",
       "553848    0\n",
       "553849    0\n",
       "553850    0\n",
       "553851    0\n",
       "553852    0\n",
       "Name: is_fishing, Length: 553853, dtype: int64"
      ]
     },
     "execution_count": 239,
     "metadata": {},
     "output_type": "execute_result"
    }
   ],
   "source": [
    "#target values \n",
    "y = all_data['is_fishing']\n",
    "y"
   ]
  },
  {
   "cell_type": "code",
   "execution_count": 240,
   "id": "83a1a82c",
   "metadata": {},
   "outputs": [
    {
     "data": {
      "text/html": [
       "<div>\n",
       "<style scoped>\n",
       "    .dataframe tbody tr th:only-of-type {\n",
       "        vertical-align: middle;\n",
       "    }\n",
       "\n",
       "    .dataframe tbody tr th {\n",
       "        vertical-align: top;\n",
       "    }\n",
       "\n",
       "    .dataframe thead th {\n",
       "        text-align: right;\n",
       "    }\n",
       "</style>\n",
       "<table border=\"1\" class=\"dataframe\">\n",
       "  <thead>\n",
       "    <tr style=\"text-align: right;\">\n",
       "      <th></th>\n",
       "      <th>mmsi</th>\n",
       "      <th>timestamp</th>\n",
       "      <th>distance_from_shore</th>\n",
       "      <th>distance_from_port</th>\n",
       "      <th>speed</th>\n",
       "      <th>course</th>\n",
       "      <th>lat</th>\n",
       "      <th>lon</th>\n",
       "    </tr>\n",
       "  </thead>\n",
       "  <tbody>\n",
       "    <tr>\n",
       "      <th>0</th>\n",
       "      <td>1.848346e+13</td>\n",
       "      <td>1.427865e+09</td>\n",
       "      <td>0.000000</td>\n",
       "      <td>2236.013184</td>\n",
       "      <td>0.0</td>\n",
       "      <td>137.899994</td>\n",
       "      <td>28.965490</td>\n",
       "      <td>-13.539565</td>\n",
       "    </tr>\n",
       "    <tr>\n",
       "      <th>1</th>\n",
       "      <td>1.848346e+13</td>\n",
       "      <td>1.427866e+09</td>\n",
       "      <td>0.000000</td>\n",
       "      <td>2236.013184</td>\n",
       "      <td>0.0</td>\n",
       "      <td>144.800003</td>\n",
       "      <td>28.965481</td>\n",
       "      <td>-13.539565</td>\n",
       "    </tr>\n",
       "    <tr>\n",
       "      <th>2</th>\n",
       "      <td>1.848346e+13</td>\n",
       "      <td>1.427867e+09</td>\n",
       "      <td>0.000000</td>\n",
       "      <td>2236.013184</td>\n",
       "      <td>0.0</td>\n",
       "      <td>0.000000</td>\n",
       "      <td>28.965487</td>\n",
       "      <td>-13.539558</td>\n",
       "    </tr>\n",
       "    <tr>\n",
       "      <th>3</th>\n",
       "      <td>1.848346e+13</td>\n",
       "      <td>1.427867e+09</td>\n",
       "      <td>0.000000</td>\n",
       "      <td>2236.013184</td>\n",
       "      <td>0.0</td>\n",
       "      <td>112.000000</td>\n",
       "      <td>28.965469</td>\n",
       "      <td>-13.539557</td>\n",
       "    </tr>\n",
       "    <tr>\n",
       "      <th>4</th>\n",
       "      <td>1.848346e+13</td>\n",
       "      <td>1.427868e+09</td>\n",
       "      <td>0.000000</td>\n",
       "      <td>2236.013184</td>\n",
       "      <td>0.0</td>\n",
       "      <td>95.300003</td>\n",
       "      <td>28.965473</td>\n",
       "      <td>-13.539560</td>\n",
       "    </tr>\n",
       "    <tr>\n",
       "      <th>...</th>\n",
       "      <td>...</td>\n",
       "      <td>...</td>\n",
       "      <td>...</td>\n",
       "      <td>...</td>\n",
       "      <td>...</td>\n",
       "      <td>...</td>\n",
       "      <td>...</td>\n",
       "      <td>...</td>\n",
       "    </tr>\n",
       "    <tr>\n",
       "      <th>553848</th>\n",
       "      <td>1.040818e+14</td>\n",
       "      <td>1.439086e+09</td>\n",
       "      <td>185384.234375</td>\n",
       "      <td>227073.718750</td>\n",
       "      <td>7.6</td>\n",
       "      <td>213.800003</td>\n",
       "      <td>55.501614</td>\n",
       "      <td>6.407568</td>\n",
       "    </tr>\n",
       "    <tr>\n",
       "      <th>553849</th>\n",
       "      <td>1.040818e+14</td>\n",
       "      <td>1.439086e+09</td>\n",
       "      <td>186449.171875</td>\n",
       "      <td>228049.234375</td>\n",
       "      <td>7.8</td>\n",
       "      <td>211.699997</td>\n",
       "      <td>55.496868</td>\n",
       "      <td>6.401987</td>\n",
       "    </tr>\n",
       "    <tr>\n",
       "      <th>553850</th>\n",
       "      <td>1.040818e+14</td>\n",
       "      <td>1.439086e+09</td>\n",
       "      <td>186449.171875</td>\n",
       "      <td>228049.234375</td>\n",
       "      <td>7.8</td>\n",
       "      <td>211.699997</td>\n",
       "      <td>55.496868</td>\n",
       "      <td>6.401987</td>\n",
       "    </tr>\n",
       "    <tr>\n",
       "      <th>553851</th>\n",
       "      <td>1.040818e+14</td>\n",
       "      <td>1.439087e+09</td>\n",
       "      <td>188675.000000</td>\n",
       "      <td>230003.046875</td>\n",
       "      <td>7.5</td>\n",
       "      <td>213.500000</td>\n",
       "      <td>55.480648</td>\n",
       "      <td>6.384378</td>\n",
       "    </tr>\n",
       "    <tr>\n",
       "      <th>553852</th>\n",
       "      <td>1.040818e+14</td>\n",
       "      <td>1.439087e+09</td>\n",
       "      <td>188762.421875</td>\n",
       "      <td>229996.515625</td>\n",
       "      <td>7.5</td>\n",
       "      <td>211.600006</td>\n",
       "      <td>55.473244</td>\n",
       "      <td>6.376435</td>\n",
       "    </tr>\n",
       "  </tbody>\n",
       "</table>\n",
       "<p>553853 rows × 8 columns</p>\n",
       "</div>"
      ],
      "text/plain": [
       "                mmsi     timestamp  distance_from_shore  distance_from_port  \\\n",
       "0       1.848346e+13  1.427865e+09             0.000000         2236.013184   \n",
       "1       1.848346e+13  1.427866e+09             0.000000         2236.013184   \n",
       "2       1.848346e+13  1.427867e+09             0.000000         2236.013184   \n",
       "3       1.848346e+13  1.427867e+09             0.000000         2236.013184   \n",
       "4       1.848346e+13  1.427868e+09             0.000000         2236.013184   \n",
       "...              ...           ...                  ...                 ...   \n",
       "553848  1.040818e+14  1.439086e+09        185384.234375       227073.718750   \n",
       "553849  1.040818e+14  1.439086e+09        186449.171875       228049.234375   \n",
       "553850  1.040818e+14  1.439086e+09        186449.171875       228049.234375   \n",
       "553851  1.040818e+14  1.439087e+09        188675.000000       230003.046875   \n",
       "553852  1.040818e+14  1.439087e+09        188762.421875       229996.515625   \n",
       "\n",
       "        speed      course        lat        lon  \n",
       "0         0.0  137.899994  28.965490 -13.539565  \n",
       "1         0.0  144.800003  28.965481 -13.539565  \n",
       "2         0.0    0.000000  28.965487 -13.539558  \n",
       "3         0.0  112.000000  28.965469 -13.539557  \n",
       "4         0.0   95.300003  28.965473 -13.539560  \n",
       "...       ...         ...        ...        ...  \n",
       "553848    7.6  213.800003  55.501614   6.407568  \n",
       "553849    7.8  211.699997  55.496868   6.401987  \n",
       "553850    7.8  211.699997  55.496868   6.401987  \n",
       "553851    7.5  213.500000  55.480648   6.384378  \n",
       "553852    7.5  211.600006  55.473244   6.376435  \n",
       "\n",
       "[553853 rows x 8 columns]"
      ]
     },
     "execution_count": 240,
     "metadata": {},
     "output_type": "execute_result"
    }
   ],
   "source": [
    "#features\n",
    "X = all_data.drop(columns = ['is_fishing','gear_type'])\n",
    "X"
   ]
  },
  {
   "cell_type": "code",
   "execution_count": 241,
   "id": "490d9827",
   "metadata": {},
   "outputs": [],
   "source": [
    "#creating a train and test set \n",
    "X_train, X_test, y_train, y_test = train_test_split(X,y, random_state = 42)"
   ]
  },
  {
   "cell_type": "markdown",
   "id": "a3d7fa34",
   "metadata": {},
   "source": [
    "## feature selection with Anova"
   ]
  },
  {
   "cell_type": "code",
   "execution_count": 242,
   "id": "956b4a94",
   "metadata": {},
   "outputs": [
    {
     "data": {
      "text/plain": [
       "SelectKBest(k=5)"
      ]
     },
     "execution_count": 242,
     "metadata": {},
     "output_type": "execute_result"
    }
   ],
   "source": [
    "#selecting 4 best features using F score(ANOVA)\n",
    "from sklearn.feature_selection import SelectKBest, f_classif\n",
    "selector = SelectKBest(f_classif, k = 5)\n",
    "selector.fit(X_train, y_train)"
   ]
  },
  {
   "cell_type": "code",
   "execution_count": 243,
   "id": "f01752d9",
   "metadata": {},
   "outputs": [
    {
     "data": {
      "text/plain": [
       "array([ 1916.12829466,  4127.18966834, 56197.30890583, 68188.32968466,\n",
       "       13316.9841692 ,   148.18251673, 13069.04267748,  1326.25491473])"
      ]
     },
     "execution_count": 243,
     "metadata": {},
     "output_type": "execute_result"
    }
   ],
   "source": [
    "#looking at the scores\n",
    "selector.scores_"
   ]
  },
  {
   "cell_type": "code",
   "execution_count": 244,
   "id": "b96cb5f9",
   "metadata": {},
   "outputs": [
    {
     "data": {
      "text/plain": [
       "array([1, 2, 3, 4, 6])"
      ]
     },
     "execution_count": 244,
     "metadata": {},
     "output_type": "execute_result"
    }
   ],
   "source": [
    "#finding columns indices for best scores\n",
    "columns = selector.get_support(indices = True)\n",
    "columns "
   ]
  },
  {
   "cell_type": "markdown",
   "id": "7677023d",
   "metadata": {},
   "source": [
    "## feature importance for trees as suggested "
   ]
  },
  {
   "cell_type": "code",
   "execution_count": 44,
   "id": "3876baf9",
   "metadata": {},
   "outputs": [
    {
     "data": {
      "text/plain": [
       "RandomForestClassifier(random_state=42)"
      ]
     },
     "execution_count": 44,
     "metadata": {},
     "output_type": "execute_result"
    }
   ],
   "source": [
    "from sklearn.ensemble import RandomForestClassifier\n",
    "forest_clf = RandomForestClassifier(random_state = 42)\n",
    "forest_clf.fit(X_train, y_train)"
   ]
  },
  {
   "cell_type": "code",
   "execution_count": 52,
   "id": "325d2dee",
   "metadata": {},
   "outputs": [],
   "source": [
    "from sklearn.inspection import permutation_importance\n",
    "\n",
    "result = permutation_importance(\n",
    "    forest_clf, X_test, y_test, n_repeats=10, random_state=42, n_jobs=2\n",
    ")\n",
    "\n",
    "forest_importances = pd.Series(result.importances_mean, index=X.columns)\n"
   ]
  },
  {
   "cell_type": "code",
   "execution_count": 53,
   "id": "974d6c63",
   "metadata": {},
   "outputs": [
    {
     "data": {
      "image/png": "[encoded data removed]",
      "text/plain": [
       "<Figure size 640x480 with 1 Axes>"
      ]
     },
     "metadata": {},
     "output_type": "display_data"
    }
   ],
   "source": [
    "fig, ax = plt.subplots()\n",
    "forest_importances.plot.bar(yerr=result.importances_std, ax=ax)\n",
    "ax.set_title(\"Feature importances using permutation on full model\")\n",
    "ax.set_ylabel(\"Mean accuracy decrease\")\n",
    "fig.tight_layout()\n",
    "plt.show()"
   ]
  },
  {
   "cell_type": "markdown",
   "id": "0aabd27d",
   "metadata": {},
   "source": [
    "## scaling training features for PCA"
   ]
  },
  {
   "cell_type": "code",
   "execution_count": 213,
   "id": "83e7b851",
   "metadata": {},
   "outputs": [],
   "source": [
    "from sklearn.preprocessing import MinMaxScaler\n",
    "scaler = MinMaxScaler()"
   ]
  },
  {
   "cell_type": "code",
   "execution_count": 214,
   "id": "93fa21a0",
   "metadata": {},
   "outputs": [],
   "source": [
    "#scaling features of training set \n",
    "X_train_pca= scaler.fit_transform(X_train)\n",
    "X_test_pca = scaler.fit_transform(X_test)"
   ]
  },
  {
   "cell_type": "markdown",
   "id": "f989772b",
   "metadata": {},
   "source": [
    "## PCA "
   ]
  },
  {
   "cell_type": "code",
   "execution_count": 215,
   "id": "68d27aad",
   "metadata": {},
   "outputs": [
    {
     "data": {
      "text/plain": [
       "PCA(n_components=8, random_state=42)"
      ]
     },
     "execution_count": 215,
     "metadata": {},
     "output_type": "execute_result"
    }
   ],
   "source": [
    "#principle component analysis \n",
    "from sklearn.decomposition import PCA\n",
    "pca_8 = PCA(n_components = 8, random_state = 42)\n",
    "pca_8.fit(X_train_pca)\n"
   ]
  },
  {
   "cell_type": "code",
   "execution_count": 216,
   "id": "6c3de49a",
   "metadata": {},
   "outputs": [],
   "source": [
    "X_pca_8 = pca_8.transform(X_train_pca)"
   ]
  },
  {
   "cell_type": "code",
   "execution_count": 217,
   "id": "fe32266a",
   "metadata": {},
   "outputs": [
    {
     "data": {
      "text/plain": [
       "100.0"
      ]
     },
     "execution_count": 217,
     "metadata": {},
     "output_type": "execute_result"
    }
   ],
   "source": [
    "#making sure the explained variance totals to 100 \n",
    "sum(pca_8.explained_variance_ratio_*100)"
   ]
  },
  {
   "cell_type": "code",
   "execution_count": 218,
   "id": "d3228f6b",
   "metadata": {},
   "outputs": [
    {
     "data": {
      "text/plain": [
       "array([30.04789148, 25.26710835, 16.21491468, 13.52256649,  8.32691624,\n",
       "        5.71803166,  0.54254868,  0.36002242])"
      ]
     },
     "execution_count": 218,
     "metadata": {},
     "output_type": "execute_result"
    }
   ],
   "source": [
    "pca_8.explained_variance_ratio_*100"
   ]
  },
  {
   "cell_type": "code",
   "execution_count": 219,
   "id": "df1f5947",
   "metadata": {},
   "outputs": [
    {
     "data": {
      "text/plain": [
       "array([ 30.04789148,  55.31499983,  71.52991451,  85.052481  ,\n",
       "        93.37939724,  99.0974289 ,  99.63997758, 100.        ])"
      ]
     },
     "execution_count": 219,
     "metadata": {},
     "output_type": "execute_result"
    }
   ],
   "source": [
    "np.cumsum(pca_8.explained_variance_ratio_*100)"
   ]
  },
  {
   "cell_type": "code",
   "execution_count": 220,
   "id": "d2a9e591",
   "metadata": {},
   "outputs": [
    {
     "data": {
      "text/plain": [
       "(415389, 6)"
      ]
     },
     "execution_count": 220,
     "metadata": {},
     "output_type": "execute_result"
    }
   ],
   "source": [
    "#pca_95 get 95 percent of the variance \n",
    "pca_95 = PCA(n_components =0.95, random_state = 42)\n",
    "pca_95.fit(X_train_pca)\n",
    "X_pca_95 = pca_95.transform(X_train_pca)\n",
    "X_pca_95.shape"
   ]
  },
  {
   "cell_type": "code",
   "execution_count": 221,
   "id": "6d82e58b",
   "metadata": {},
   "outputs": [
    {
     "data": {
      "text/html": [
       "<div>\n",
       "<style scoped>\n",
       "    .dataframe tbody tr th:only-of-type {\n",
       "        vertical-align: middle;\n",
       "    }\n",
       "\n",
       "    .dataframe tbody tr th {\n",
       "        vertical-align: top;\n",
       "    }\n",
       "\n",
       "    .dataframe thead th {\n",
       "        text-align: right;\n",
       "    }\n",
       "</style>\n",
       "<table border=\"1\" class=\"dataframe\">\n",
       "  <thead>\n",
       "    <tr style=\"text-align: right;\">\n",
       "      <th></th>\n",
       "      <th>PC1</th>\n",
       "      <th>PC2</th>\n",
       "      <th>PC3</th>\n",
       "      <th>PC4</th>\n",
       "      <th>PC5</th>\n",
       "      <th>PC6</th>\n",
       "      <th>target</th>\n",
       "    </tr>\n",
       "  </thead>\n",
       "  <tbody>\n",
       "    <tr>\n",
       "      <th>0</th>\n",
       "      <td>-0.546042</td>\n",
       "      <td>-0.194708</td>\n",
       "      <td>0.046641</td>\n",
       "      <td>0.182525</td>\n",
       "      <td>0.071434</td>\n",
       "      <td>-0.011047</td>\n",
       "      <td>0</td>\n",
       "    </tr>\n",
       "    <tr>\n",
       "      <th>1</th>\n",
       "      <td>0.442145</td>\n",
       "      <td>0.501090</td>\n",
       "      <td>-0.056871</td>\n",
       "      <td>0.311401</td>\n",
       "      <td>0.172532</td>\n",
       "      <td>0.005559</td>\n",
       "      <td>0</td>\n",
       "    </tr>\n",
       "    <tr>\n",
       "      <th>2</th>\n",
       "      <td>0.299192</td>\n",
       "      <td>-0.430828</td>\n",
       "      <td>-0.096849</td>\n",
       "      <td>-0.068562</td>\n",
       "      <td>-0.010232</td>\n",
       "      <td>0.086659</td>\n",
       "      <td>0</td>\n",
       "    </tr>\n",
       "    <tr>\n",
       "      <th>3</th>\n",
       "      <td>0.437222</td>\n",
       "      <td>0.359649</td>\n",
       "      <td>-0.320819</td>\n",
       "      <td>0.168400</td>\n",
       "      <td>-0.093552</td>\n",
       "      <td>-0.042143</td>\n",
       "      <td>0</td>\n",
       "    </tr>\n",
       "    <tr>\n",
       "      <th>4</th>\n",
       "      <td>-0.502137</td>\n",
       "      <td>-0.126878</td>\n",
       "      <td>0.084591</td>\n",
       "      <td>-0.181082</td>\n",
       "      <td>-0.010865</td>\n",
       "      <td>-0.163643</td>\n",
       "      <td>0</td>\n",
       "    </tr>\n",
       "    <tr>\n",
       "      <th>...</th>\n",
       "      <td>...</td>\n",
       "      <td>...</td>\n",
       "      <td>...</td>\n",
       "      <td>...</td>\n",
       "      <td>...</td>\n",
       "      <td>...</td>\n",
       "      <td>...</td>\n",
       "    </tr>\n",
       "    <tr>\n",
       "      <th>415384</th>\n",
       "      <td>0.259923</td>\n",
       "      <td>0.032880</td>\n",
       "      <td>-0.361990</td>\n",
       "      <td>-0.242489</td>\n",
       "      <td>0.336614</td>\n",
       "      <td>0.021295</td>\n",
       "      <td>0</td>\n",
       "    </tr>\n",
       "    <tr>\n",
       "      <th>415385</th>\n",
       "      <td>-0.063548</td>\n",
       "      <td>0.365861</td>\n",
       "      <td>0.129318</td>\n",
       "      <td>0.265001</td>\n",
       "      <td>-0.061998</td>\n",
       "      <td>0.027986</td>\n",
       "      <td>0</td>\n",
       "    </tr>\n",
       "    <tr>\n",
       "      <th>415386</th>\n",
       "      <td>-0.307376</td>\n",
       "      <td>-0.207110</td>\n",
       "      <td>0.040255</td>\n",
       "      <td>-0.292899</td>\n",
       "      <td>-0.010406</td>\n",
       "      <td>-0.143918</td>\n",
       "      <td>0</td>\n",
       "    </tr>\n",
       "    <tr>\n",
       "      <th>415387</th>\n",
       "      <td>-0.203844</td>\n",
       "      <td>0.337209</td>\n",
       "      <td>0.354644</td>\n",
       "      <td>-0.318371</td>\n",
       "      <td>-0.193267</td>\n",
       "      <td>-0.280346</td>\n",
       "      <td>0</td>\n",
       "    </tr>\n",
       "    <tr>\n",
       "      <th>415388</th>\n",
       "      <td>0.016080</td>\n",
       "      <td>0.074223</td>\n",
       "      <td>-0.305548</td>\n",
       "      <td>-0.071284</td>\n",
       "      <td>0.220038</td>\n",
       "      <td>-0.013433</td>\n",
       "      <td>0</td>\n",
       "    </tr>\n",
       "  </tbody>\n",
       "</table>\n",
       "<p>415389 rows × 7 columns</p>\n",
       "</div>"
      ],
      "text/plain": [
       "             PC1       PC2       PC3       PC4       PC5       PC6  target\n",
       "0      -0.546042 -0.194708  0.046641  0.182525  0.071434 -0.011047       0\n",
       "1       0.442145  0.501090 -0.056871  0.311401  0.172532  0.005559       0\n",
       "2       0.299192 -0.430828 -0.096849 -0.068562 -0.010232  0.086659       0\n",
       "3       0.437222  0.359649 -0.320819  0.168400 -0.093552 -0.042143       0\n",
       "4      -0.502137 -0.126878  0.084591 -0.181082 -0.010865 -0.163643       0\n",
       "...          ...       ...       ...       ...       ...       ...     ...\n",
       "415384  0.259923  0.032880 -0.361990 -0.242489  0.336614  0.021295       0\n",
       "415385 -0.063548  0.365861  0.129318  0.265001 -0.061998  0.027986       0\n",
       "415386 -0.307376 -0.207110  0.040255 -0.292899 -0.010406 -0.143918       0\n",
       "415387 -0.203844  0.337209  0.354644 -0.318371 -0.193267 -0.280346       0\n",
       "415388  0.016080  0.074223 -0.305548 -0.071284  0.220038 -0.013433       0\n",
       "\n",
       "[415389 rows x 7 columns]"
      ]
     },
     "execution_count": 221,
     "metadata": {},
     "output_type": "execute_result"
    }
   ],
   "source": [
    "df_train_all = pd.DataFrame(X_pca_95, columns = ['PC1', 'PC2', 'PC3', 'PC4','PC5','PC6'])\n",
    "df_train_all['target'] = all_data.is_fishing\n",
    "df_train_all"
   ]
  },
  {
   "cell_type": "code",
   "execution_count": 229,
   "id": "0bad03d2",
   "metadata": {},
   "outputs": [],
   "source": [
    "y_pca = df_train_all['target']\n",
    "X_pca = df_train_all.drop(columns = 'target')\n",
    "X_train_pca, X_test_pca, y_train_pca, y_test_pca = train_test_split(X_pca,y_pca, random_state = 42)"
   ]
  },
  {
   "cell_type": "markdown",
   "id": "a7570c26",
   "metadata": {},
   "source": [
    "## Getting columns Using Anova feature selection"
   ]
  },
  {
   "cell_type": "code",
   "execution_count": 233,
   "id": "9139d46e",
   "metadata": {},
   "outputs": [],
   "source": [
    "#resetting X and y after PCA \n",
    "#target values \n",
    "y = all_data['is_fishing']\n",
    "#features\n",
    "X = all_data.drop(columns = ['is_fishing','gear_type'])\n",
    "X_train, X_test, y_train, y_test = train_test_split(X,y, random_state = 42)"
   ]
  },
  {
   "cell_type": "code",
   "execution_count": 245,
   "id": "c450ad34",
   "metadata": {},
   "outputs": [],
   "source": [
    "#dropping other columns \n",
    "X_train = X_train.iloc[:,columns]\n",
    "X_test = X_test.iloc[:,columns]"
   ]
  },
  {
   "cell_type": "code",
   "execution_count": 246,
   "id": "369d9456",
   "metadata": {},
   "outputs": [],
   "source": [
    "#scaling features of training set and test set \n",
    "X_train = scaler.fit_transform(X_train)\n",
    "X_test = scaler.fit_transform(X_test)"
   ]
  },
  {
   "cell_type": "markdown",
   "id": "c8d0d3b6",
   "metadata": {},
   "source": [
    "#### SGD with ANOVA "
   ]
  },
  {
   "cell_type": "code",
   "execution_count": 202,
   "id": "c4b4a093",
   "metadata": {},
   "outputs": [
    {
     "data": {
      "text/plain": [
       "SGDClassifier(max_iter=10000, random_state=42)"
      ]
     },
     "execution_count": 202,
     "metadata": {},
     "output_type": "execute_result"
    }
   ],
   "source": [
    "#SGD\n",
    "from sklearn.linear_model import SGDClassifier\n",
    "\n",
    "sgd_clf = SGDClassifier(max_iter = 10000, tol = 1e-3, random_state = 42 )\n",
    "sgd_clf.fit(X_train, y_train)"
   ]
  },
  {
   "cell_type": "code",
   "execution_count": 203,
   "id": "cbc8fdd6",
   "metadata": {},
   "outputs": [
    {
     "data": {
      "text/plain": [
       "array([0.68360501, 0.68194391, 0.68099781])"
      ]
     },
     "execution_count": 203,
     "metadata": {},
     "output_type": "execute_result"
    }
   ],
   "source": [
    "from sklearn.model_selection import cross_val_score\n",
    "cross_val_score(sgd_clf, X_train, y_train, cv = 3, scoring = 'accuracy')"
   ]
  },
  {
   "cell_type": "markdown",
   "id": "758dd243",
   "metadata": {},
   "source": [
    "#### SGD with PCA"
   ]
  },
  {
   "cell_type": "code",
   "execution_count": 180,
   "id": "a67afdac",
   "metadata": {},
   "outputs": [
    {
     "data": {
      "text/plain": [
       "SGDClassifier(max_iter=10000, random_state=42)"
      ]
     },
     "execution_count": 180,
     "metadata": {},
     "output_type": "execute_result"
    }
   ],
   "source": [
    "#SGD\n",
    "from sklearn.linear_model import SGDClassifier\n",
    "\n",
    "sgd_clf = SGDClassifier(max_iter = 10000, tol = 1e-3, random_state = 42 )\n",
    "sgd_clf.fit(X_train_pca, y_train_pca)"
   ]
  },
  {
   "cell_type": "code",
   "execution_count": 181,
   "id": "522c3a99",
   "metadata": {},
   "outputs": [
    {
     "data": {
      "text/plain": [
       "array([0.50503144, 0.50502181, 0.50502181])"
      ]
     },
     "execution_count": 181,
     "metadata": {},
     "output_type": "execute_result"
    }
   ],
   "source": [
    "from sklearn.model_selection import cross_val_score\n",
    "cross_val_score(sgd_clf, X_train_pca, y_train_pca, cv = 3, scoring = 'accuracy')"
   ]
  },
  {
   "cell_type": "markdown",
   "id": "7680df97",
   "metadata": {},
   "source": [
    "#### Random Forrest"
   ]
  },
  {
   "cell_type": "code",
   "execution_count": 247,
   "id": "458125d0",
   "metadata": {},
   "outputs": [
    {
     "data": {
      "text/plain": [
       "RandomForestClassifier(random_state=42)"
      ]
     },
     "execution_count": 247,
     "metadata": {},
     "output_type": "execute_result"
    }
   ],
   "source": [
    "#random forrest\n",
    "from sklearn.ensemble import RandomForestClassifier\n",
    "forest_clf = RandomForestClassifier(random_state = 42)\n",
    "forest_clf.fit(X_train, y_train)"
   ]
  },
  {
   "cell_type": "code",
   "execution_count": 248,
   "id": "e7190540",
   "metadata": {},
   "outputs": [
    {
     "data": {
      "text/plain": [
       "array([0.97209363, 0.97130641, 0.97184807])"
      ]
     },
     "execution_count": 248,
     "metadata": {},
     "output_type": "execute_result"
    }
   ],
   "source": [
    "from sklearn.model_selection import cross_val_score\n",
    "cross_val_score(forest_clf, X_train, y_train, cv = 3, scoring = 'accuracy')"
   ]
  },
  {
   "cell_type": "markdown",
   "id": "4a0019af",
   "metadata": {},
   "source": [
    "#### Try Random Forrest with PCA"
   ]
  },
  {
   "cell_type": "code",
   "execution_count": 230,
   "id": "41d2fbc4",
   "metadata": {},
   "outputs": [
    {
     "data": {
      "text/plain": [
       "RandomForestClassifier(random_state=42)"
      ]
     },
     "execution_count": 230,
     "metadata": {},
     "output_type": "execute_result"
    }
   ],
   "source": [
    "#random forrest\n",
    "from sklearn.ensemble import RandomForestClassifier\n",
    "forest_clf = RandomForestClassifier(random_state = 42)\n",
    "forest_clf.fit(X_train_pca, y_train_pca)"
   ]
  },
  {
   "cell_type": "code",
   "execution_count": 231,
   "id": "bacfe815",
   "metadata": {},
   "outputs": [
    {
     "data": {
      "text/plain": [
       "array([0.50145888, 0.50138184, 0.50036111])"
      ]
     },
     "execution_count": 231,
     "metadata": {},
     "output_type": "execute_result"
    }
   ],
   "source": [
    "from sklearn.model_selection import cross_val_score\n",
    "cross_val_score(forest_clf, X_train_pca, y_train_pca, cv = 3, scoring = 'accuracy')"
   ]
  },
  {
   "cell_type": "markdown",
   "id": "ab774d46",
   "metadata": {},
   "source": [
    "#### SVC"
   ]
  },
  {
   "cell_type": "code",
   "execution_count": 65,
   "id": "08095ce9",
   "metadata": {},
   "outputs": [
    {
     "data": {
      "text/plain": [
       "LinearSVC(random_state=42, tol=1e-05)"
      ]
     },
     "execution_count": 65,
     "metadata": {},
     "output_type": "execute_result"
    }
   ],
   "source": [
    "from sklearn.svm import LinearSVC\n",
    "svc_clf = LinearSVC(tol = 1e-5, random_state = 42)\n",
    "svc_clf.fit(X_train, y_train)"
   ]
  },
  {
   "cell_type": "code",
   "execution_count": 66,
   "id": "907ac914",
   "metadata": {},
   "outputs": [
    {
     "data": {
      "text/plain": [
       "array([0.67761785, 0.67626008, 0.67649119])"
      ]
     },
     "execution_count": 66,
     "metadata": {},
     "output_type": "execute_result"
    }
   ],
   "source": [
    "from sklearn.model_selection import cross_val_score\n",
    "cross_val_score(svc_clf, X_train, y_train, cv = 3, scoring = 'accuracy')"
   ]
  },
  {
   "cell_type": "markdown",
   "id": "4c41e971",
   "metadata": {},
   "source": [
    "#### KNN"
   ]
  },
  {
   "cell_type": "code",
   "execution_count": 251,
   "id": "b57e3e5b",
   "metadata": {},
   "outputs": [
    {
     "data": {
      "text/plain": [
       "KNeighborsClassifier(n_neighbors=3)"
      ]
     },
     "execution_count": 251,
     "metadata": {},
     "output_type": "execute_result"
    }
   ],
   "source": [
    "from sklearn.neighbors import KNeighborsClassifier\n",
    "KNN = KNeighborsClassifier(n_neighbors=3)\n",
    "KNN.fit(X_train, y_train)"
   ]
  },
  {
   "cell_type": "code",
   "execution_count": 252,
   "id": "05b601ed",
   "metadata": {},
   "outputs": [
    {
     "data": {
      "text/plain": [
       "array([0.95892766, 0.95826322, 0.95929599])"
      ]
     },
     "execution_count": 252,
     "metadata": {},
     "output_type": "execute_result"
    }
   ],
   "source": [
    "from sklearn.model_selection import cross_val_score\n",
    "cross_val_score(KNN, X_train, y_train, cv = 3, scoring = 'accuracy')"
   ]
  },
  {
   "cell_type": "markdown",
   "id": "dee226bb",
   "metadata": {},
   "source": [
    "#### Decsion Tree"
   ]
  },
  {
   "cell_type": "code",
   "execution_count": 69,
   "id": "a88277fe",
   "metadata": {},
   "outputs": [
    {
     "data": {
      "text/plain": [
       "DecisionTreeClassifier(random_state=42)"
      ]
     },
     "execution_count": 69,
     "metadata": {},
     "output_type": "execute_result"
    }
   ],
   "source": [
    "from sklearn.tree import DecisionTreeClassifier\n",
    "DT_clf = DecisionTreeClassifier(random_state=42)\n",
    "DT_clf.fit(X_train, y_train)"
   ]
  },
  {
   "cell_type": "code",
   "execution_count": 70,
   "id": "b1cfb927",
   "metadata": {},
   "outputs": [
    {
     "data": {
      "text/plain": [
       "array([0.9345168 , 0.93595401, 0.93505124])"
      ]
     },
     "execution_count": 70,
     "metadata": {},
     "output_type": "execute_result"
    }
   ],
   "source": [
    "from sklearn.model_selection import cross_val_score\n",
    "cross_val_score(DT_clf, X_train, y_train, cv = 3, scoring = 'accuracy')"
   ]
  },
  {
   "cell_type": "markdown",
   "id": "98e1d6a1",
   "metadata": {},
   "source": [
    "#### Logistic Regression "
   ]
  },
  {
   "cell_type": "code",
   "execution_count": 71,
   "id": "68ee2aa0",
   "metadata": {},
   "outputs": [
    {
     "data": {
      "text/plain": [
       "LogisticRegression(random_state=42)"
      ]
     },
     "execution_count": 71,
     "metadata": {},
     "output_type": "execute_result"
    }
   ],
   "source": [
    "from sklearn.linear_model import LogisticRegression\n",
    "log_clf = LogisticRegression(random_state=42)\n",
    "log_clf.fit(X_train, y_train)"
   ]
  },
  {
   "cell_type": "code",
   "execution_count": 72,
   "id": "eca197d9",
   "metadata": {},
   "outputs": [
    {
     "data": {
      "text/plain": [
       "array([0.68179225, 0.67986393, 0.68012393])"
      ]
     },
     "execution_count": 72,
     "metadata": {},
     "output_type": "execute_result"
    }
   ],
   "source": [
    "from sklearn.model_selection import cross_val_score\n",
    "cross_val_score(log_clf, X_train, y_train, cv = 3, scoring = 'accuracy')"
   ]
  },
  {
   "cell_type": "markdown",
   "id": "2a8ddd1b",
   "metadata": {},
   "source": [
    "#### Nueral Network "
   ]
  },
  {
   "cell_type": "code",
   "execution_count": 73,
   "id": "aa42ce58",
   "metadata": {},
   "outputs": [],
   "source": [
    "import tensorflow as tf\n",
    "from tensorflow import keras"
   ]
  },
  {
   "cell_type": "code",
   "execution_count": 74,
   "id": "563c38e0",
   "metadata": {},
   "outputs": [],
   "source": [
    "# want to create a random validation set\n",
    "import random\n",
    "random.seed(42)\n",
    "mylist = random.sample(range(len(X_train)), 50000)\n"
   ]
  },
  {
   "cell_type": "code",
   "execution_count": 75,
   "id": "366be69f",
   "metadata": {},
   "outputs": [],
   "source": [
    "#turning y_train into array for NN\n",
    "y_train_nn = np.array(y_train)"
   ]
  },
  {
   "cell_type": "code",
   "execution_count": 76,
   "id": "d5d29845",
   "metadata": {},
   "outputs": [],
   "source": [
    "#creating X train and X_valid, all needing to be arrays \n",
    "X_valid = X_train[mylist]\n",
    "X = []\n",
    "for i in range(len(X_train)):\n",
    "    if i not in mylist:\n",
    "        X.append(X_train[i])\n",
    "X_train_nn1 = np.array(X)\n",
    "\n"
   ]
  },
  {
   "cell_type": "code",
   "execution_count": 77,
   "id": "bc7d683a",
   "metadata": {},
   "outputs": [],
   "source": [
    "#creating y train and y_valid, all needing to be arrays \n",
    "y_valid = y_train_nn[mylist]\n",
    "y = []\n",
    "for i in range(len(y_train_nn)):\n",
    "    if i not in mylist:\n",
    "        y.append(y_train_nn[i])\n",
    "y_train_nn1 = np.array(y)"
   ]
  },
  {
   "cell_type": "code",
   "execution_count": 78,
   "id": "3b17bffd",
   "metadata": {},
   "outputs": [
    {
     "data": {
      "text/plain": [
       "True"
      ]
     },
     "execution_count": 78,
     "metadata": {},
     "output_type": "execute_result"
    }
   ],
   "source": [
    "#checking to make sure nothign went wrong creationg the validation set \n",
    "len(y_train_nn1) + len(y_valid) == len(y_train)\n"
   ]
  },
  {
   "cell_type": "code",
   "execution_count": 79,
   "id": "6131cd30",
   "metadata": {},
   "outputs": [],
   "source": [
    "#building NN\n",
    "model = keras.models.Sequential([\n",
    "    keras.layers.Flatten(),\n",
    "    keras.layers.Dense(300, activation = 'relu'),\n",
    "    keras.layers.Dense(100, activation = 'relu'),\n",
    "    keras.layers.Dense(10, activation = 'softmax')  \n",
    "])"
   ]
  },
  {
   "cell_type": "code",
   "execution_count": 80,
   "id": "18d37659",
   "metadata": {},
   "outputs": [],
   "source": [
    "#compiling NN\n",
    "model.compile(loss='sparse_categorical_crossentropy',\n",
    "              optimizer='sgd',\n",
    "              metrics=['accuracy'])"
   ]
  },
  {
   "cell_type": "markdown",
   "id": "8b90a015",
   "metadata": {},
   "source": [
    "#####  just some house keeping because I had issue with input data type"
   ]
  },
  {
   "cell_type": "code",
   "execution_count": 84,
   "id": "fa4a9911",
   "metadata": {},
   "outputs": [],
   "source": [
    "y_train_np = y_train_nn"
   ]
  },
  {
   "cell_type": "code",
   "execution_count": 83,
   "id": "f06c24b8",
   "metadata": {},
   "outputs": [
    {
     "data": {
      "text/plain": [
       "numpy.ndarray"
      ]
     },
     "execution_count": 83,
     "metadata": {},
     "output_type": "execute_result"
    }
   ],
   "source": [
    "type(y_train_nn)"
   ]
  },
  {
   "cell_type": "code",
   "execution_count": 86,
   "id": "b1aa9faf",
   "metadata": {},
   "outputs": [
    {
     "data": {
      "text/plain": [
       "numpy.ndarray"
      ]
     },
     "execution_count": 86,
     "metadata": {},
     "output_type": "execute_result"
    }
   ],
   "source": [
    "type(X_train_nn1)"
   ]
  },
  {
   "cell_type": "code",
   "execution_count": 88,
   "id": "8b7cd171",
   "metadata": {},
   "outputs": [],
   "source": [
    "y_valid_np = y_valid"
   ]
  },
  {
   "cell_type": "code",
   "execution_count": 91,
   "id": "4b5017f3",
   "metadata": {},
   "outputs": [
    {
     "name": "stdout",
     "output_type": "stream",
     "text": [
      "Train on 365389 samples, validate on 50000 samples\n",
      "Epoch 1/30\n",
      "365389/365389 [==============================] - 34s 93us/sample - loss: 0.6150 - accuracy: 0.6864 - val_loss: 0.5559 - val_accuracy: 0.7086\n",
      "Epoch 2/30\n",
      "365389/365389 [==============================] - 35s 96us/sample - loss: 0.5021 - accuracy: 0.7439 - val_loss: 0.4500 - val_accuracy: 0.7854\n",
      "Epoch 3/30\n",
      "365389/365389 [==============================] - 35s 95us/sample - loss: 0.4223 - accuracy: 0.8057 - val_loss: 0.4844 - val_accuracy: 0.7688\n",
      "Epoch 4/30\n",
      "365389/365389 [==============================] - 34s 92us/sample - loss: 0.4064 - accuracy: 0.8163 - val_loss: 0.4111 - val_accuracy: 0.8195\n",
      "Epoch 5/30\n",
      "365389/365389 [==============================] - 33s 90us/sample - loss: 0.3998 - accuracy: 0.8197 - val_loss: 0.4003 - val_accuracy: 0.8189\n",
      "Epoch 6/30\n",
      "365389/365389 [==============================] - 33s 90us/sample - loss: 0.3953 - accuracy: 0.8211 - val_loss: 0.3865 - val_accuracy: 0.8245\n",
      "Epoch 7/30\n",
      "365389/365389 [==============================] - 33s 90us/sample - loss: 0.3917 - accuracy: 0.8232 - val_loss: 0.3985 - val_accuracy: 0.8253\n",
      "Epoch 8/30\n",
      "365389/365389 [==============================] - 33s 90us/sample - loss: 0.3882 - accuracy: 0.8254 - val_loss: 0.3801 - val_accuracy: 0.8269\n",
      "Epoch 9/30\n",
      "365389/365389 [==============================] - 33s 90us/sample - loss: 0.3853 - accuracy: 0.8261 - val_loss: 0.3786 - val_accuracy: 0.8271\n",
      "Epoch 10/30\n",
      "365389/365389 [==============================] - 33s 90us/sample - loss: 0.3828 - accuracy: 0.8275 - val_loss: 0.3797 - val_accuracy: 0.8293\n",
      "Epoch 11/30\n",
      "365389/365389 [==============================] - 33s 90us/sample - loss: 0.3811 - accuracy: 0.8282 - val_loss: 0.3802 - val_accuracy: 0.8245\n",
      "Epoch 12/30\n",
      "365389/365389 [==============================] - 33s 90us/sample - loss: 0.3790 - accuracy: 0.8293 - val_loss: 0.3803 - val_accuracy: 0.8269\n",
      "Epoch 13/30\n",
      "365389/365389 [==============================] - 33s 90us/sample - loss: 0.3773 - accuracy: 0.8301 - val_loss: 0.3698 - val_accuracy: 0.8342\n",
      "Epoch 14/30\n",
      "365389/365389 [==============================] - 33s 90us/sample - loss: 0.3756 - accuracy: 0.8306 - val_loss: 0.3722 - val_accuracy: 0.8284\n",
      "Epoch 15/30\n",
      "365389/365389 [==============================] - 33s 90us/sample - loss: 0.3741 - accuracy: 0.8313 - val_loss: 0.3680 - val_accuracy: 0.8329\n",
      "Epoch 16/30\n",
      "365389/365389 [==============================] - 33s 90us/sample - loss: 0.3726 - accuracy: 0.8321 - val_loss: 0.3747 - val_accuracy: 0.8330\n",
      "Epoch 17/30\n",
      "365389/365389 [==============================] - 33s 91us/sample - loss: 0.3714 - accuracy: 0.8325 - val_loss: 0.3679 - val_accuracy: 0.8345\n",
      "Epoch 18/30\n",
      "365389/365389 [==============================] - 33s 90us/sample - loss: 0.3707 - accuracy: 0.8330 - val_loss: 0.3914 - val_accuracy: 0.8220\n",
      "Epoch 19/30\n",
      "365389/365389 [==============================] - 33s 90us/sample - loss: 0.3696 - accuracy: 0.8333 - val_loss: 0.3637 - val_accuracy: 0.8386\n",
      "Epoch 20/30\n",
      "365389/365389 [==============================] - 33s 90us/sample - loss: 0.3687 - accuracy: 0.8339 - val_loss: 0.3686 - val_accuracy: 0.8350\n",
      "Epoch 21/30\n",
      "365389/365389 [==============================] - 33s 90us/sample - loss: 0.3673 - accuracy: 0.8341 - val_loss: 0.3699 - val_accuracy: 0.8344\n",
      "Epoch 22/30\n",
      "365389/365389 [==============================] - 33s 90us/sample - loss: 0.3668 - accuracy: 0.8344 - val_loss: 0.3626 - val_accuracy: 0.8350\n",
      "Epoch 23/30\n",
      "365389/365389 [==============================] - 33s 90us/sample - loss: 0.3655 - accuracy: 0.8354 - val_loss: 0.3843 - val_accuracy: 0.8312\n",
      "Epoch 24/30\n",
      "365389/365389 [==============================] - 33s 90us/sample - loss: 0.3648 - accuracy: 0.8350 - val_loss: 0.3786 - val_accuracy: 0.8329\n",
      "Epoch 25/30\n",
      "365389/365389 [==============================] - 33s 90us/sample - loss: 0.3637 - accuracy: 0.8359 - val_loss: 0.3828 - val_accuracy: 0.8240\n",
      "Epoch 26/30\n",
      "365389/365389 [==============================] - 33s 90us/sample - loss: 0.3630 - accuracy: 0.8364 - val_loss: 0.3847 - val_accuracy: 0.8312\n",
      "Epoch 27/30\n",
      "365389/365389 [==============================] - 33s 90us/sample - loss: 0.3625 - accuracy: 0.8369 - val_loss: 0.3574 - val_accuracy: 0.8398\n",
      "Epoch 28/30\n",
      "365389/365389 [==============================] - 33s 90us/sample - loss: 0.3616 - accuracy: 0.8367 - val_loss: 0.3717 - val_accuracy: 0.8326\n",
      "Epoch 29/30\n",
      "365389/365389 [==============================] - 33s 90us/sample - loss: 0.3604 - accuracy: 0.8379 - val_loss: 0.3661 - val_accuracy: 0.8384\n",
      "Epoch 30/30\n",
      "365389/365389 [==============================] - 33s 90us/sample - loss: 0.3603 - accuracy: 0.8381 - val_loss: 0.3650 - val_accuracy: 0.8354\n"
     ]
    }
   ],
   "source": [
    "#fitting first model \n",
    "NN = model.fit(X_train_nn1, y_train_nn1, epochs = 30, validation_data = (X_valid, y_valid_np))"
   ]
  },
  {
   "cell_type": "code",
   "execution_count": 92,
   "id": "8ffac397",
   "metadata": {},
   "outputs": [],
   "source": [
    "#clearing session\n",
    "keras.backend.clear_session()\n",
    "np.random.seed(42)\n",
    "tf.random.set_seed(42)"
   ]
  },
  {
   "cell_type": "markdown",
   "id": "c15b7486",
   "metadata": {},
   "source": [
    "## Doing grid search with nueral network "
   ]
  },
  {
   "cell_type": "code",
   "execution_count": 93,
   "id": "e3c9a7eb",
   "metadata": {},
   "outputs": [],
   "source": [
    "# first build a function to build a model \n",
    "def build_model(n_hidden=7, n_neurons=100, learning_rate=.1, input_shape=[4]):\n",
    "    model = keras.models.Sequential()\n",
    "    model.add(keras.layers.InputLayer(input_shape=input_shape))\n",
    "    for layer in range(n_hidden):\n",
    "        model.add(keras.layers.Dense(n_neurons, activation=\"relu\"))\n",
    "    model.add(keras.layers.Dense(1))\n",
    "    optimizer = keras.optimizers.SGD(lr=learning_rate)\n",
    "    model.compile(metrics = ['accuracy'],loss = 'mse', optimizer=optimizer)\n",
    "    return model"
   ]
  },
  {
   "cell_type": "code",
   "execution_count": 94,
   "id": "f1bcccfb",
   "metadata": {},
   "outputs": [],
   "source": [
    "#instantiate the NN classifier \n",
    "keras_clf = keras.wrappers.scikit_learn.KerasClassifier(build_model)"
   ]
  },
  {
   "cell_type": "code",
   "execution_count": null,
   "id": "9a5306a9",
   "metadata": {},
   "outputs": [],
   "source": [
    "\n",
    "from sklearn.model_selection import GridSearchCV\n",
    "param_distribs = {\n",
    "     'n_hidden':(5,9),\n",
    "     'n_neurons':(100,200),\n",
    "     'learning_rate':[.2,.4]\n",
    "}\n",
    "gridnn = GridSearchCV(keras_clf, param_distribs, cv = 3, verbose = 2)\n",
    "gridnn.fit(X_train_nn1, y_train_nn1, epochs = 10, \n",
    "                  validation_data = (X_valid, y_valid),\n",
    "                  callbacks = [keras.callbacks.EarlyStopping(patience =10)])"
   ]
  },
  {
   "cell_type": "code",
   "execution_count": null,
   "id": "587ad057",
   "metadata": {},
   "outputs": [],
   "source": [
    "gridnn.best_params_"
   ]
  },
  {
   "cell_type": "code",
   "execution_count": null,
   "id": "4b8b1e1e",
   "metadata": {},
   "outputs": [],
   "source": [
    "gridnn.best_score_"
   ]
  },
  {
   "cell_type": "code",
   "execution_count": 103,
   "id": "5c8453d3",
   "metadata": {},
   "outputs": [],
   "source": [
    "def build_model(n_hidden=5, n_neurons=100, learning_rate=.2, input_shape=[4]):\n",
    "    model = keras.models.Sequential()\n",
    "    model.add(keras.layers.InputLayer(input_shape=input_shape))\n",
    "    for layer in range(n_hidden):\n",
    "        model.add(keras.layers.Dense(n_neurons, activation=\"relu\"))\n",
    "    model.add(keras.layers.Dense(1))\n",
    "    optimizer = keras.optimizers.SGD(lr=learning_rate)\n",
    "    model.compile(metrics = ['accuracy'],loss = 'mse', optimizer=optimizer)\n",
    "    return model"
   ]
  },
  {
   "cell_type": "code",
   "execution_count": 104,
   "id": "2be651de",
   "metadata": {},
   "outputs": [],
   "source": [
    "keras_clf = keras.wrappers.scikit_learn.KerasClassifier(build_model)"
   ]
  },
  {
   "cell_type": "code",
   "execution_count": 105,
   "id": "c017e80a",
   "metadata": {
    "scrolled": true
   },
   "outputs": [
    {
     "name": "stdout",
     "output_type": "stream",
     "text": [
      "Train on 365389 samples, validate on 50000 samples\n",
      "Epoch 1/12\n",
      "365389/365389 [==============================] - 40s 109us/sample - loss: 0.1633 - accuracy: 0.7650 - val_loss: 0.1880 - val_accuracy: 0.7728\n",
      "Epoch 2/12\n",
      "365389/365389 [==============================] - 39s 106us/sample - loss: 0.1305 - accuracy: 0.8169 - val_loss: 0.1441 - val_accuracy: 0.8053\n",
      "Epoch 3/12\n",
      "365389/365389 [==============================] - 39s 107us/sample - loss: 0.1231 - accuracy: 0.8268 - val_loss: 0.1256 - val_accuracy: 0.8236\n",
      "Epoch 4/12\n",
      "365389/365389 [==============================] - 39s 108us/sample - loss: 0.1187 - accuracy: 0.8339 - val_loss: 0.1157 - val_accuracy: 0.8367\n",
      "Epoch 5/12\n",
      "365389/365389 [==============================] - 39s 107us/sample - loss: 0.1159 - accuracy: 0.8371 - val_loss: 0.1195 - val_accuracy: 0.8368\n",
      "Epoch 6/12\n",
      "365389/365389 [==============================] - 39s 107us/sample - loss: 0.1135 - accuracy: 0.8406 - val_loss: 0.1099 - val_accuracy: 0.8464\n",
      "Epoch 7/12\n",
      "365389/365389 [==============================] - 39s 107us/sample - loss: 0.1116 - accuracy: 0.8437 - val_loss: 0.1123 - val_accuracy: 0.8422\n",
      "Epoch 8/12\n",
      "365389/365389 [==============================] - 39s 107us/sample - loss: 0.1102 - accuracy: 0.8464 - val_loss: 0.1096 - val_accuracy: 0.8464\n",
      "Epoch 9/12\n",
      "365389/365389 [==============================] - 39s 107us/sample - loss: 0.1084 - accuracy: 0.8496 - val_loss: 0.1076 - val_accuracy: 0.8510\n",
      "Epoch 10/12\n",
      "365389/365389 [==============================] - 39s 107us/sample - loss: 0.1069 - accuracy: 0.8516 - val_loss: 0.1103 - val_accuracy: 0.8524\n",
      "Epoch 11/12\n",
      "365389/365389 [==============================] - 39s 108us/sample - loss: 0.1053 - accuracy: 0.8543 - val_loss: 0.1082 - val_accuracy: 0.8493\n",
      "Epoch 12/12\n",
      "365389/365389 [==============================] - 39s 108us/sample - loss: 0.1041 - accuracy: 0.8561 - val_loss: 0.1034 - val_accuracy: 0.8589\n"
     ]
    },
    {
     "data": {
      "text/plain": [
       "<tensorflow.python.keras.callbacks.History at 0x7f83c684c750>"
      ]
     },
     "execution_count": 105,
     "metadata": {},
     "output_type": "execute_result"
    }
   ],
   "source": [
    "keras_clf.fit(X_train_nn1, y_train_nn1, epochs = 12,\n",
    "             validation_data = (X_valid, y_valid),\n",
    "              callbacks = [keras.callbacks.EarlyStopping(patience = 10)]\n",
    "             )"
   ]
  },
  {
   "cell_type": "markdown",
   "id": "7de7c78e",
   "metadata": {},
   "source": [
    "### Testing on test set "
   ]
  },
  {
   "cell_type": "code",
   "execution_count": null,
   "id": "e79a1cba",
   "metadata": {},
   "outputs": [],
   "source": [
    "y_test_np = y_test.to_numpy()"
   ]
  },
  {
   "cell_type": "code",
   "execution_count": 106,
   "id": "e8e8b965",
   "metadata": {
    "scrolled": true
   },
   "outputs": [],
   "source": [
    "y_pred = keras_clf.predict(X_test)"
   ]
  },
  {
   "cell_type": "code",
   "execution_count": 107,
   "id": "4db1ed85",
   "metadata": {},
   "outputs": [
    {
     "data": {
      "text/plain": [
       "0.8564464409521608"
      ]
     },
     "execution_count": 107,
     "metadata": {},
     "output_type": "execute_result"
    }
   ],
   "source": [
    "from sklearn.metrics import accuracy_score\n",
    "accuracy_score(y_test_np, y_pred)"
   ]
  },
  {
   "cell_type": "markdown",
   "id": "5e1493a5",
   "metadata": {},
   "source": [
    "## Let's do gridsearch on knn, decision tree, and also random forest and test on test set for accuracy, recall, precision and F1 "
   ]
  },
  {
   "cell_type": "markdown",
   "id": "0c496194",
   "metadata": {},
   "source": [
    "all of these models seems to generalize well when using cross validation. "
   ]
  },
  {
   "cell_type": "markdown",
   "id": "29ed9141",
   "metadata": {},
   "source": [
    "### Decision tree Grid Search"
   ]
  },
  {
   "cell_type": "code",
   "execution_count": 108,
   "id": "efb7a817",
   "metadata": {},
   "outputs": [],
   "source": [
    "from sklearn.model_selection import GridSearchCV"
   ]
  },
  {
   "cell_type": "code",
   "execution_count": 109,
   "id": "ab7b9d73",
   "metadata": {},
   "outputs": [
    {
     "data": {
      "text/plain": [
       "DecisionTreeClassifier(random_state=42)"
      ]
     },
     "execution_count": 109,
     "metadata": {},
     "output_type": "execute_result"
    }
   ],
   "source": [
    "from sklearn.tree import DecisionTreeClassifier\n",
    "DT_clf = DecisionTreeClassifier(random_state=42)\n",
    "DT_clf.fit(X_train, y_train)"
   ]
  },
  {
   "cell_type": "code",
   "execution_count": 110,
   "id": "ada0b719",
   "metadata": {},
   "outputs": [
    {
     "data": {
      "text/plain": [
       "array([0.9345168 , 0.93595401, 0.93505124])"
      ]
     },
     "execution_count": 110,
     "metadata": {},
     "output_type": "execute_result"
    }
   ],
   "source": [
    "from sklearn.model_selection import cross_val_score\n",
    "cross_val_score(DT_clf, X_train, y_train, cv = 3, scoring = 'accuracy')"
   ]
  },
  {
   "cell_type": "code",
   "execution_count": 111,
   "id": "27457025",
   "metadata": {},
   "outputs": [
    {
     "data": {
      "text/plain": [
       "{'ccp_alpha': 0.0,\n",
       " 'class_weight': None,\n",
       " 'criterion': 'gini',\n",
       " 'max_depth': None,\n",
       " 'max_features': None,\n",
       " 'max_leaf_nodes': None,\n",
       " 'min_impurity_decrease': 0.0,\n",
       " 'min_impurity_split': None,\n",
       " 'min_samples_leaf': 1,\n",
       " 'min_samples_split': 2,\n",
       " 'min_weight_fraction_leaf': 0.0,\n",
       " 'random_state': 42,\n",
       " 'splitter': 'best'}"
      ]
     },
     "execution_count": 111,
     "metadata": {},
     "output_type": "execute_result"
    }
   ],
   "source": [
    "DT_clf.get_params()"
   ]
  },
  {
   "cell_type": "code",
   "execution_count": 112,
   "id": "1b4bcc84",
   "metadata": {},
   "outputs": [],
   "source": [
    "param_grid = {\n",
    "    'criterion':['gini'],\n",
    "    'max_depth':range(29,100),\n",
    "    'min_samples_split':[2],\n",
    "    'min_samples_leaf':[1]\n",
    "    \n",
    "}"
   ]
  },
  {
   "cell_type": "code",
   "execution_count": null,
   "id": "3d0ec84e",
   "metadata": {},
   "outputs": [],
   "source": [
    "grid = GridSearchCV(DT_clf, param_grid = param_grid, cv = 3, verbose = 1)\n",
    "grid.fit(X_train, y_train)"
   ]
  },
  {
   "cell_type": "code",
   "execution_count": null,
   "id": "4b75a20a",
   "metadata": {},
   "outputs": [],
   "source": [
    "grid.best_params_"
   ]
  },
  {
   "cell_type": "code",
   "execution_count": null,
   "id": "a46d0f46",
   "metadata": {},
   "outputs": [],
   "source": [
    "grid.best_estimator_"
   ]
  },
  {
   "cell_type": "code",
   "execution_count": null,
   "id": "33a053a5",
   "metadata": {},
   "outputs": [],
   "source": [
    "grid.best_score_"
   ]
  },
  {
   "cell_type": "markdown",
   "id": "31d42567",
   "metadata": {},
   "source": [
    "### Decision Tree best model and metrics "
   ]
  },
  {
   "cell_type": "code",
   "execution_count": 253,
   "id": "fb5ab86d",
   "metadata": {},
   "outputs": [
    {
     "data": {
      "text/plain": [
       "DecisionTreeClassifier(max_depth=33, random_state=42)"
      ]
     },
     "execution_count": 253,
     "metadata": {},
     "output_type": "execute_result"
    }
   ],
   "source": [
    "from sklearn.tree import DecisionTreeClassifier\n",
    "DT_clf = DecisionTreeClassifier(criterion= 'gini',\n",
    " max_depth=33,\n",
    " min_samples_leaf= 1,\n",
    " min_samples_split= 2, random_state=42)\n",
    "DT_clf.fit(X_train, y_train)"
   ]
  },
  {
   "cell_type": "code",
   "execution_count": 254,
   "id": "47ec0a22",
   "metadata": {},
   "outputs": [],
   "source": [
    "y_pred = DT_clf.predict(X_test)"
   ]
  },
  {
   "cell_type": "code",
   "execution_count": 255,
   "id": "a489a32c",
   "metadata": {},
   "outputs": [
    {
     "data": {
      "text/plain": [
       "0.9181520106309221"
      ]
     },
     "execution_count": 255,
     "metadata": {},
     "output_type": "execute_result"
    }
   ],
   "source": [
    "from sklearn.metrics import accuracy_score\n",
    "accuracy_score(y_test, y_pred)"
   ]
  },
  {
   "cell_type": "code",
   "execution_count": 256,
   "id": "fdae4f58",
   "metadata": {},
   "outputs": [
    {
     "data": {
      "text/plain": [
       "0.9146219272406753"
      ]
     },
     "execution_count": 256,
     "metadata": {},
     "output_type": "execute_result"
    }
   ],
   "source": [
    "from sklearn.metrics import f1_score\n",
    "f1_score(y_test, y_pred)"
   ]
  },
  {
   "cell_type": "code",
   "execution_count": 257,
   "id": "8b861f55",
   "metadata": {},
   "outputs": [
    {
     "data": {
      "text/plain": [
       "0.9370928401617833"
      ]
     },
     "execution_count": 257,
     "metadata": {},
     "output_type": "execute_result"
    }
   ],
   "source": [
    "from sklearn.metrics import recall_score\n",
    "recall_score(y_test, y_pred)"
   ]
  },
  {
   "cell_type": "code",
   "execution_count": 258,
   "id": "dd4a2ed8",
   "metadata": {},
   "outputs": [
    {
     "data": {
      "text/plain": [
       "0.8932034549226763"
      ]
     },
     "execution_count": 258,
     "metadata": {},
     "output_type": "execute_result"
    }
   ],
   "source": [
    "from sklearn.metrics import precision_score\n",
    "precision_score(y_test, y_pred)"
   ]
  },
  {
   "cell_type": "markdown",
   "id": "9c176a22",
   "metadata": {},
   "source": [
    "### KNN grid search "
   ]
  },
  {
   "cell_type": "code",
   "execution_count": 116,
   "id": "658e8299",
   "metadata": {},
   "outputs": [
    {
     "data": {
      "text/plain": [
       "KNeighborsClassifier(n_neighbors=3)"
      ]
     },
     "execution_count": 116,
     "metadata": {},
     "output_type": "execute_result"
    }
   ],
   "source": [
    "from sklearn.neighbors import KNeighborsClassifier\n",
    "KNN = KNeighborsClassifier(n_neighbors=3)\n",
    "KNN.fit(X_train, y_train)"
   ]
  },
  {
   "cell_type": "code",
   "execution_count": 117,
   "id": "7d124d69",
   "metadata": {},
   "outputs": [
    {
     "data": {
      "text/plain": [
       "array([0.93870565, 0.9388212 , 0.93871287])"
      ]
     },
     "execution_count": 117,
     "metadata": {},
     "output_type": "execute_result"
    }
   ],
   "source": [
    "from sklearn.model_selection import cross_val_score\n",
    "cross_val_score(KNN, X_train, y_train, cv = 3, scoring = 'accuracy')"
   ]
  },
  {
   "cell_type": "code",
   "execution_count": 118,
   "id": "212f8c74",
   "metadata": {},
   "outputs": [
    {
     "data": {
      "text/plain": [
       "{'algorithm': 'auto',\n",
       " 'leaf_size': 30,\n",
       " 'metric': 'minkowski',\n",
       " 'metric_params': None,\n",
       " 'n_jobs': None,\n",
       " 'n_neighbors': 3,\n",
       " 'p': 2,\n",
       " 'weights': 'uniform'}"
      ]
     },
     "execution_count": 118,
     "metadata": {},
     "output_type": "execute_result"
    }
   ],
   "source": [
    "KNN.get_params()"
   ]
  },
  {
   "cell_type": "code",
   "execution_count": 119,
   "id": "27ed74f3",
   "metadata": {},
   "outputs": [],
   "source": [
    "param_grid = {'algorithm': ['auto'],\n",
    " 'leaf_size': range(15,21),\n",
    " 'metric': ['minkowski'],\n",
    " 'n_neighbors': [4],\n",
    " 'p': [1],\n",
    " 'weights': ['distance']}"
   ]
  },
  {
   "cell_type": "code",
   "execution_count": null,
   "id": "a06f04e6",
   "metadata": {},
   "outputs": [],
   "source": [
    "grid1 = GridSearchCV(KNN, param_grid = param_grid, cv = 3, verbose = 1)\n",
    "grid1.fit(X_train, y_train)"
   ]
  },
  {
   "cell_type": "code",
   "execution_count": null,
   "id": "3f14d052",
   "metadata": {},
   "outputs": [],
   "source": [
    "grid1.best_params_"
   ]
  },
  {
   "cell_type": "code",
   "execution_count": null,
   "id": "a1095b43",
   "metadata": {},
   "outputs": [],
   "source": [
    "grid1.best_estimator_"
   ]
  },
  {
   "cell_type": "code",
   "execution_count": null,
   "id": "d5222984",
   "metadata": {},
   "outputs": [],
   "source": [
    "grid1.best_score_"
   ]
  },
  {
   "cell_type": "markdown",
   "id": "2ade6fec",
   "metadata": {},
   "source": [
    "### KNN best model and Metrics"
   ]
  },
  {
   "cell_type": "code",
   "execution_count": 260,
   "id": "0905ad6f",
   "metadata": {},
   "outputs": [
    {
     "data": {
      "text/plain": [
       "KNeighborsClassifier(leaf_size=17, n_neighbors=4, p=1, weights='distance')"
      ]
     },
     "execution_count": 260,
     "metadata": {},
     "output_type": "execute_result"
    }
   ],
   "source": [
    "from sklearn.neighbors import KNeighborsClassifier\n",
    "KNN = KNeighborsClassifier(algorithm= 'auto',\n",
    " leaf_size=17,\n",
    " metric='minkowski',\n",
    " n_neighbors =4,\n",
    " p=1,\n",
    " weights='distance')\n",
    "KNN.fit(X_train, y_train)"
   ]
  },
  {
   "cell_type": "code",
   "execution_count": 261,
   "id": "5cef799f",
   "metadata": {},
   "outputs": [
    {
     "data": {
      "text/plain": [
       "array([0.96778923, 0.96669868, 0.96789034])"
      ]
     },
     "execution_count": 261,
     "metadata": {},
     "output_type": "execute_result"
    }
   ],
   "source": [
    "from sklearn.model_selection import cross_val_score\n",
    "cross_val_score(KNN, X_train, y_train, cv = 3, scoring = 'accuracy')"
   ]
  },
  {
   "cell_type": "code",
   "execution_count": 262,
   "id": "309de7af",
   "metadata": {},
   "outputs": [],
   "source": [
    "y_pred = KNN.predict(X_test)"
   ]
  },
  {
   "cell_type": "code",
   "execution_count": 123,
   "id": "03bb9466",
   "metadata": {},
   "outputs": [
    {
     "data": {
      "text/plain": [
       "0.9085610700254217"
      ]
     },
     "execution_count": 123,
     "metadata": {},
     "output_type": "execute_result"
    }
   ],
   "source": [
    "from sklearn.metrics import accuracy_score\n",
    "accuracy_score(y_test, y_pred)"
   ]
  },
  {
   "cell_type": "code",
   "execution_count": 263,
   "id": "6edad7ba",
   "metadata": {},
   "outputs": [
    {
     "data": {
      "text/plain": [
       "0.9676947814646982"
      ]
     },
     "execution_count": 263,
     "metadata": {},
     "output_type": "execute_result"
    }
   ],
   "source": [
    "from sklearn.metrics import f1_score\n",
    "f1_score(y_test, y_pred)"
   ]
  },
  {
   "cell_type": "code",
   "execution_count": 264,
   "id": "4ff46710",
   "metadata": {},
   "outputs": [
    {
     "data": {
      "text/plain": [
       "0.9708543023866127"
      ]
     },
     "execution_count": 264,
     "metadata": {},
     "output_type": "execute_result"
    }
   ],
   "source": [
    "from sklearn.metrics import recall_score\n",
    "recall_score(y_test, y_pred)"
   ]
  },
  {
   "cell_type": "code",
   "execution_count": 265,
   "id": "d58dab06",
   "metadata": {},
   "outputs": [
    {
     "data": {
      "text/plain": [
       "0.9645557583472646"
      ]
     },
     "execution_count": 265,
     "metadata": {},
     "output_type": "execute_result"
    }
   ],
   "source": [
    "from sklearn.metrics import precision_score\n",
    "precision_score(y_test, y_pred)"
   ]
  },
  {
   "cell_type": "markdown",
   "id": "bcc6704e",
   "metadata": {},
   "source": [
    "### Random Forrest Grid Search \n"
   ]
  },
  {
   "cell_type": "code",
   "execution_count": 124,
   "id": "2b4a9535",
   "metadata": {},
   "outputs": [
    {
     "data": {
      "text/plain": [
       "RandomForestClassifier(random_state=42)"
      ]
     },
     "execution_count": 124,
     "metadata": {},
     "output_type": "execute_result"
    }
   ],
   "source": [
    "#random forrest\n",
    "from sklearn.ensemble import RandomForestClassifier\n",
    "forest_clf = RandomForestClassifier(random_state = 42)\n",
    "forest_clf.fit(X_train, y_train)"
   ]
  },
  {
   "cell_type": "code",
   "execution_count": 125,
   "id": "d2477286",
   "metadata": {},
   "outputs": [
    {
     "data": {
      "text/plain": [
       "array([0.9492572 , 0.9493872 , 0.94948831])"
      ]
     },
     "execution_count": 125,
     "metadata": {},
     "output_type": "execute_result"
    }
   ],
   "source": [
    "from sklearn.model_selection import cross_val_score\n",
    "cross_val_score(forest_clf, X_train, y_train, cv = 3, scoring = 'accuracy')"
   ]
  },
  {
   "cell_type": "code",
   "execution_count": 126,
   "id": "36d575ed",
   "metadata": {},
   "outputs": [
    {
     "data": {
      "text/plain": [
       "{'bootstrap': True,\n",
       " 'ccp_alpha': 0.0,\n",
       " 'class_weight': None,\n",
       " 'criterion': 'gini',\n",
       " 'max_depth': None,\n",
       " 'max_features': 'auto',\n",
       " 'max_leaf_nodes': None,\n",
       " 'max_samples': None,\n",
       " 'min_impurity_decrease': 0.0,\n",
       " 'min_impurity_split': None,\n",
       " 'min_samples_leaf': 1,\n",
       " 'min_samples_split': 2,\n",
       " 'min_weight_fraction_leaf': 0.0,\n",
       " 'n_estimators': 100,\n",
       " 'n_jobs': None,\n",
       " 'oob_score': False,\n",
       " 'random_state': 42,\n",
       " 'verbose': 0,\n",
       " 'warm_start': False}"
      ]
     },
     "execution_count": 126,
     "metadata": {},
     "output_type": "execute_result"
    }
   ],
   "source": [
    "forest_clf.get_params()"
   ]
  },
  {
   "cell_type": "code",
   "execution_count": 127,
   "id": "e01501f5",
   "metadata": {},
   "outputs": [],
   "source": [
    "param_grid = {'bootstrap': [False],\n",
    " 'criterion': ['entropy'],\n",
    " 'max_features': ['auto'],\n",
    " 'min_samples_leaf': [1],\n",
    " 'min_samples_split': [3],\n",
    " 'n_estimators': range(78,84),\n",
    " 'warm_start': [True]}"
   ]
  },
  {
   "cell_type": "code",
   "execution_count": null,
   "id": "7f61f4e7",
   "metadata": {},
   "outputs": [],
   "source": [
    "grid2 = GridSearchCV(forest_clf, param_grid = param_grid, cv = 3, verbose = 2)\n",
    "grid2.fit(X_train, y_train)"
   ]
  },
  {
   "cell_type": "code",
   "execution_count": null,
   "id": "397da01e",
   "metadata": {},
   "outputs": [],
   "source": [
    "grid2.best_params_"
   ]
  },
  {
   "cell_type": "code",
   "execution_count": null,
   "id": "3a1b0fe4",
   "metadata": {},
   "outputs": [],
   "source": [
    "grid2.best_estimator_"
   ]
  },
  {
   "cell_type": "code",
   "execution_count": null,
   "id": "c4331934",
   "metadata": {},
   "outputs": [],
   "source": [
    "grid2.best_score_"
   ]
  },
  {
   "cell_type": "markdown",
   "id": "7c2589cd",
   "metadata": {},
   "source": [
    "### Random Forrest Best model and metrics\n"
   ]
  },
  {
   "cell_type": "code",
   "execution_count": 266,
   "id": "5018a4e1",
   "metadata": {},
   "outputs": [
    {
     "data": {
      "text/plain": [
       "RandomForestClassifier(bootstrap=False, criterion='entropy',\n",
       "                       min_samples_split=3, n_estimators=80, random_state=42,\n",
       "                       warm_start=True)"
      ]
     },
     "execution_count": 266,
     "metadata": {},
     "output_type": "execute_result"
    }
   ],
   "source": [
    "from sklearn.ensemble import RandomForestClassifier\n",
    "forest_clf = RandomForestClassifier(random_state = 42,bootstrap = False,\n",
    " criterion= 'entropy',\n",
    " max_features= 'auto',\n",
    " min_samples_leaf =  1,\n",
    " min_samples_split = 3,\n",
    " n_estimators = 80,\n",
    " warm_start = True)\n",
    "forest_clf.fit(X_train, y_train)"
   ]
  },
  {
   "cell_type": "code",
   "execution_count": 267,
   "id": "ee8090fa",
   "metadata": {},
   "outputs": [
    {
     "data": {
      "text/plain": [
       "array([0.97515582, 0.97436138, 0.97511248])"
      ]
     },
     "execution_count": 267,
     "metadata": {},
     "output_type": "execute_result"
    }
   ],
   "source": [
    "from sklearn.model_selection import cross_val_score\n",
    "cross_val_score(forest_clf, X_train, y_train, cv = 3, scoring = 'accuracy')"
   ]
  },
  {
   "cell_type": "code",
   "execution_count": 268,
   "id": "7ff6e1e1",
   "metadata": {},
   "outputs": [],
   "source": [
    "\n",
    "y_pred = forest_clf.predict(X_test)"
   ]
  },
  {
   "cell_type": "code",
   "execution_count": 269,
   "id": "49cbe708",
   "metadata": {},
   "outputs": [
    {
     "data": {
      "text/plain": [
       "0.9607551421308066"
      ]
     },
     "execution_count": 269,
     "metadata": {},
     "output_type": "execute_result"
    }
   ],
   "source": [
    "from sklearn.metrics import accuracy_score\n",
    "accuracy_score(y_test, y_pred)"
   ]
  },
  {
   "cell_type": "code",
   "execution_count": 270,
   "id": "3b9bd55f",
   "metadata": {},
   "outputs": [
    {
     "data": {
      "text/plain": [
       "0.9584785133565621"
      ]
     },
     "execution_count": 270,
     "metadata": {},
     "output_type": "execute_result"
    }
   ],
   "source": [
    "from sklearn.metrics import f1_score\n",
    "f1_score(y_test, y_pred)"
   ]
  },
  {
   "cell_type": "code",
   "execution_count": 271,
   "id": "6f2f59cf",
   "metadata": {},
   "outputs": [
    {
     "data": {
      "text/plain": [
       "0.9682145172743832"
      ]
     },
     "execution_count": 271,
     "metadata": {},
     "output_type": "execute_result"
    }
   ],
   "source": [
    "from sklearn.metrics import recall_score\n",
    "recall_score(y_test, y_pred)"
   ]
  },
  {
   "cell_type": "code",
   "execution_count": 272,
   "id": "59beb126",
   "metadata": {},
   "outputs": [
    {
     "data": {
      "text/plain": [
       "0.9489363633612733"
      ]
     },
     "execution_count": 272,
     "metadata": {},
     "output_type": "execute_result"
    }
   ],
   "source": [
    "from sklearn.metrics import precision_score\n",
    "precision_score(y_test, y_pred)"
   ]
  },
  {
   "cell_type": "markdown",
   "id": "83bc55f7",
   "metadata": {},
   "source": [
    "## We have concluded that the best model to proceed with is the random forest\n",
    "### Predicting fishing activity on instances with no data in this column "
   ]
  },
  {
   "cell_type": "code",
   "execution_count": 274,
   "id": "04cf1843",
   "metadata": {},
   "outputs": [],
   "source": [
    "#getting all of our original data again\n",
    "all_data = pd.concat(dataframes)\n",
    "all_data = all_data.reset_index(drop = True)"
   ]
  },
  {
   "cell_type": "code",
   "execution_count": 275,
   "id": "bc678e59",
   "metadata": {},
   "outputs": [],
   "source": [
    "#creating a list of all indices without the fishing data on which we want to predict\n",
    "no_fishing_data = []\n",
    "for i in range(len(all_data)):\n",
    "    if all_data.is_fishing[i] == -1:\n",
    "        no_fishing_data.append(i)"
   ]
  },
  {
   "cell_type": "code",
   "execution_count": 276,
   "id": "c90de5f2",
   "metadata": {},
   "outputs": [],
   "source": [
    "#creating a database solely cotaining these instances with no fishing data \n",
    "no_fish_data = all_data.loc[no_fishing_data]"
   ]
  },
  {
   "cell_type": "code",
   "execution_count": 277,
   "id": "1acd7da4",
   "metadata": {},
   "outputs": [],
   "source": [
    "#dropping nulls and resetting indices \n",
    "no_fish_data= no_fish_data.dropna()"
   ]
  },
  {
   "cell_type": "code",
   "execution_count": 278,
   "id": "90143f88",
   "metadata": {},
   "outputs": [],
   "source": [
    "#cleaning this data inorder to use out model to predict fishing instances\n",
    "no_fish_data_pred = no_fish_data.drop(columns = ['is_fishing','source','gear_type'])"
   ]
  },
  {
   "cell_type": "code",
   "execution_count": 279,
   "id": "f44cb2f9",
   "metadata": {},
   "outputs": [],
   "source": [
    "#dropping our columns due to feature selection \n",
    "no_fish_data_pred = no_fish_data_pred.iloc[:,cols]"
   ]
  },
  {
   "cell_type": "code",
   "execution_count": 280,
   "id": "1ef36069",
   "metadata": {},
   "outputs": [
    {
     "data": {
      "text/html": [
       "<div>\n",
       "<style scoped>\n",
       "    .dataframe tbody tr th:only-of-type {\n",
       "        vertical-align: middle;\n",
       "    }\n",
       "\n",
       "    .dataframe tbody tr th {\n",
       "        vertical-align: top;\n",
       "    }\n",
       "\n",
       "    .dataframe thead th {\n",
       "        text-align: right;\n",
       "    }\n",
       "</style>\n",
       "<table border=\"1\" class=\"dataframe\">\n",
       "  <thead>\n",
       "    <tr style=\"text-align: right;\">\n",
       "      <th></th>\n",
       "      <th>timestamp</th>\n",
       "      <th>distance_from_shore</th>\n",
       "      <th>distance_from_port</th>\n",
       "      <th>speed</th>\n",
       "      <th>lat</th>\n",
       "    </tr>\n",
       "  </thead>\n",
       "  <tbody>\n",
       "    <tr>\n",
       "      <th>0</th>\n",
       "      <td>1.337836e+09</td>\n",
       "      <td>0.0</td>\n",
       "      <td>3162.200195</td>\n",
       "      <td>0.0</td>\n",
       "      <td>51.887592</td>\n",
       "    </tr>\n",
       "    <tr>\n",
       "      <th>1</th>\n",
       "      <td>1.338199e+09</td>\n",
       "      <td>0.0</td>\n",
       "      <td>4999.877441</td>\n",
       "      <td>0.0</td>\n",
       "      <td>51.242130</td>\n",
       "    </tr>\n",
       "    <tr>\n",
       "      <th>2</th>\n",
       "      <td>1.343752e+09</td>\n",
       "      <td>0.0</td>\n",
       "      <td>66308.250000</td>\n",
       "      <td>8.6</td>\n",
       "      <td>51.960873</td>\n",
       "    </tr>\n",
       "    <tr>\n",
       "      <th>3</th>\n",
       "      <td>1.350795e+09</td>\n",
       "      <td>0.0</td>\n",
       "      <td>15296.682617</td>\n",
       "      <td>0.0</td>\n",
       "      <td>51.231094</td>\n",
       "    </tr>\n",
       "    <tr>\n",
       "      <th>4</th>\n",
       "      <td>1.351808e+09</td>\n",
       "      <td>0.0</td>\n",
       "      <td>15296.682617</td>\n",
       "      <td>0.0</td>\n",
       "      <td>51.231098</td>\n",
       "    </tr>\n",
       "    <tr>\n",
       "      <th>...</th>\n",
       "      <td>...</td>\n",
       "      <td>...</td>\n",
       "      <td>...</td>\n",
       "      <td>...</td>\n",
       "      <td>...</td>\n",
       "    </tr>\n",
       "    <tr>\n",
       "      <th>28581393</th>\n",
       "      <td>1.478701e+09</td>\n",
       "      <td>0.0</td>\n",
       "      <td>24697.572266</td>\n",
       "      <td>0.1</td>\n",
       "      <td>32.735428</td>\n",
       "    </tr>\n",
       "    <tr>\n",
       "      <th>28581394</th>\n",
       "      <td>1.479122e+09</td>\n",
       "      <td>0.0</td>\n",
       "      <td>24697.572266</td>\n",
       "      <td>0.1</td>\n",
       "      <td>32.735401</td>\n",
       "    </tr>\n",
       "    <tr>\n",
       "      <th>28581395</th>\n",
       "      <td>1.479191e+09</td>\n",
       "      <td>0.0</td>\n",
       "      <td>24697.572266</td>\n",
       "      <td>0.1</td>\n",
       "      <td>32.735405</td>\n",
       "    </tr>\n",
       "    <tr>\n",
       "      <th>28581396</th>\n",
       "      <td>1.479202e+09</td>\n",
       "      <td>0.0</td>\n",
       "      <td>24697.572266</td>\n",
       "      <td>0.1</td>\n",
       "      <td>32.735413</td>\n",
       "    </tr>\n",
       "    <tr>\n",
       "      <th>28581397</th>\n",
       "      <td>1.479251e+09</td>\n",
       "      <td>0.0</td>\n",
       "      <td>24697.572266</td>\n",
       "      <td>0.0</td>\n",
       "      <td>32.735428</td>\n",
       "    </tr>\n",
       "  </tbody>\n",
       "</table>\n",
       "<p>28027343 rows × 5 columns</p>\n",
       "</div>"
      ],
      "text/plain": [
       "             timestamp  distance_from_shore  distance_from_port  speed  \\\n",
       "0         1.337836e+09                  0.0         3162.200195    0.0   \n",
       "1         1.338199e+09                  0.0         4999.877441    0.0   \n",
       "2         1.343752e+09                  0.0        66308.250000    8.6   \n",
       "3         1.350795e+09                  0.0        15296.682617    0.0   \n",
       "4         1.351808e+09                  0.0        15296.682617    0.0   \n",
       "...                ...                  ...                 ...    ...   \n",
       "28581393  1.478701e+09                  0.0        24697.572266    0.1   \n",
       "28581394  1.479122e+09                  0.0        24697.572266    0.1   \n",
       "28581395  1.479191e+09                  0.0        24697.572266    0.1   \n",
       "28581396  1.479202e+09                  0.0        24697.572266    0.1   \n",
       "28581397  1.479251e+09                  0.0        24697.572266    0.0   \n",
       "\n",
       "                lat  \n",
       "0         51.887592  \n",
       "1         51.242130  \n",
       "2         51.960873  \n",
       "3         51.231094  \n",
       "4         51.231098  \n",
       "...             ...  \n",
       "28581393  32.735428  \n",
       "28581394  32.735401  \n",
       "28581395  32.735405  \n",
       "28581396  32.735413  \n",
       "28581397  32.735428  \n",
       "\n",
       "[28027343 rows x 5 columns]"
      ]
     },
     "execution_count": 280,
     "metadata": {},
     "output_type": "execute_result"
    }
   ],
   "source": [
    "#viewing the data \n",
    "no_fish_data_pred"
   ]
  },
  {
   "cell_type": "code",
   "execution_count": 281,
   "id": "6a1b7e11",
   "metadata": {},
   "outputs": [],
   "source": [
    "#scaling the data \n",
    "no_fish_data_pred = scaler.fit_transform(no_fish_data_pred)\n"
   ]
  },
  {
   "cell_type": "code",
   "execution_count": 282,
   "id": "bc92e4de",
   "metadata": {},
   "outputs": [],
   "source": [
    "#predicting fishing instances using oour random forrest \n",
    "is_fishing_pred = forest_clf.predict(no_fish_data_pred)"
   ]
  },
  {
   "cell_type": "code",
   "execution_count": 283,
   "id": "33ebd7d2",
   "metadata": {},
   "outputs": [],
   "source": [
    "#Addinf these predictions into a column in our dataframe\n",
    "no_fish_data['is_fishing'] = is_fishing_pred"
   ]
  },
  {
   "cell_type": "code",
   "execution_count": 284,
   "id": "182999f4",
   "metadata": {},
   "outputs": [
    {
     "data": {
      "text/html": [
       "<div>\n",
       "<style scoped>\n",
       "    .dataframe tbody tr th:only-of-type {\n",
       "        vertical-align: middle;\n",
       "    }\n",
       "\n",
       "    .dataframe tbody tr th {\n",
       "        vertical-align: top;\n",
       "    }\n",
       "\n",
       "    .dataframe thead th {\n",
       "        text-align: right;\n",
       "    }\n",
       "</style>\n",
       "<table border=\"1\" class=\"dataframe\">\n",
       "  <thead>\n",
       "    <tr style=\"text-align: right;\">\n",
       "      <th></th>\n",
       "      <th>mmsi</th>\n",
       "      <th>timestamp</th>\n",
       "      <th>distance_from_shore</th>\n",
       "      <th>distance_from_port</th>\n",
       "      <th>speed</th>\n",
       "      <th>course</th>\n",
       "      <th>lat</th>\n",
       "      <th>lon</th>\n",
       "      <th>is_fishing</th>\n",
       "      <th>source</th>\n",
       "      <th>gear_type</th>\n",
       "    </tr>\n",
       "  </thead>\n",
       "  <tbody>\n",
       "    <tr>\n",
       "      <th>0</th>\n",
       "      <td>7.652701e+13</td>\n",
       "      <td>1.337836e+09</td>\n",
       "      <td>0.0</td>\n",
       "      <td>3162.200195</td>\n",
       "      <td>0.0</td>\n",
       "      <td>0.000000</td>\n",
       "      <td>51.887592</td>\n",
       "      <td>4.356583</td>\n",
       "      <td>0</td>\n",
       "      <td>gfw</td>\n",
       "      <td>fixed_gear</td>\n",
       "    </tr>\n",
       "    <tr>\n",
       "      <th>1</th>\n",
       "      <td>7.652701e+13</td>\n",
       "      <td>1.338199e+09</td>\n",
       "      <td>0.0</td>\n",
       "      <td>4999.877441</td>\n",
       "      <td>0.0</td>\n",
       "      <td>0.000000</td>\n",
       "      <td>51.242130</td>\n",
       "      <td>4.403008</td>\n",
       "      <td>0</td>\n",
       "      <td>gfw</td>\n",
       "      <td>fixed_gear</td>\n",
       "    </tr>\n",
       "    <tr>\n",
       "      <th>2</th>\n",
       "      <td>7.652701e+13</td>\n",
       "      <td>1.343752e+09</td>\n",
       "      <td>0.0</td>\n",
       "      <td>66308.250000</td>\n",
       "      <td>8.6</td>\n",
       "      <td>292.200012</td>\n",
       "      <td>51.960873</td>\n",
       "      <td>5.196125</td>\n",
       "      <td>0</td>\n",
       "      <td>gfw</td>\n",
       "      <td>fixed_gear</td>\n",
       "    </tr>\n",
       "    <tr>\n",
       "      <th>3</th>\n",
       "      <td>7.652701e+13</td>\n",
       "      <td>1.350795e+09</td>\n",
       "      <td>0.0</td>\n",
       "      <td>15296.682617</td>\n",
       "      <td>0.0</td>\n",
       "      <td>0.000000</td>\n",
       "      <td>51.231094</td>\n",
       "      <td>4.526647</td>\n",
       "      <td>0</td>\n",
       "      <td>gfw</td>\n",
       "      <td>fixed_gear</td>\n",
       "    </tr>\n",
       "    <tr>\n",
       "      <th>4</th>\n",
       "      <td>7.652701e+13</td>\n",
       "      <td>1.351808e+09</td>\n",
       "      <td>0.0</td>\n",
       "      <td>15296.682617</td>\n",
       "      <td>0.0</td>\n",
       "      <td>0.000000</td>\n",
       "      <td>51.231098</td>\n",
       "      <td>4.526487</td>\n",
       "      <td>0</td>\n",
       "      <td>gfw</td>\n",
       "      <td>fixed_gear</td>\n",
       "    </tr>\n",
       "    <tr>\n",
       "      <th>...</th>\n",
       "      <td>...</td>\n",
       "      <td>...</td>\n",
       "      <td>...</td>\n",
       "      <td>...</td>\n",
       "      <td>...</td>\n",
       "      <td>...</td>\n",
       "      <td>...</td>\n",
       "      <td>...</td>\n",
       "      <td>...</td>\n",
       "      <td>...</td>\n",
       "      <td>...</td>\n",
       "    </tr>\n",
       "    <tr>\n",
       "      <th>28581393</th>\n",
       "      <td>2.145727e+14</td>\n",
       "      <td>1.478701e+09</td>\n",
       "      <td>0.0</td>\n",
       "      <td>24697.572266</td>\n",
       "      <td>0.1</td>\n",
       "      <td>101.400002</td>\n",
       "      <td>32.735428</td>\n",
       "      <td>-16.734407</td>\n",
       "      <td>0</td>\n",
       "      <td>gfw</td>\n",
       "      <td>trollers</td>\n",
       "    </tr>\n",
       "    <tr>\n",
       "      <th>28581394</th>\n",
       "      <td>2.145727e+14</td>\n",
       "      <td>1.479122e+09</td>\n",
       "      <td>0.0</td>\n",
       "      <td>24697.572266</td>\n",
       "      <td>0.1</td>\n",
       "      <td>148.600006</td>\n",
       "      <td>32.735401</td>\n",
       "      <td>-16.734411</td>\n",
       "      <td>0</td>\n",
       "      <td>gfw</td>\n",
       "      <td>trollers</td>\n",
       "    </tr>\n",
       "    <tr>\n",
       "      <th>28581395</th>\n",
       "      <td>2.145727e+14</td>\n",
       "      <td>1.479191e+09</td>\n",
       "      <td>0.0</td>\n",
       "      <td>24697.572266</td>\n",
       "      <td>0.1</td>\n",
       "      <td>153.899994</td>\n",
       "      <td>32.735405</td>\n",
       "      <td>-16.734396</td>\n",
       "      <td>0</td>\n",
       "      <td>gfw</td>\n",
       "      <td>trollers</td>\n",
       "    </tr>\n",
       "    <tr>\n",
       "      <th>28581396</th>\n",
       "      <td>2.145727e+14</td>\n",
       "      <td>1.479202e+09</td>\n",
       "      <td>0.0</td>\n",
       "      <td>24697.572266</td>\n",
       "      <td>0.1</td>\n",
       "      <td>331.100006</td>\n",
       "      <td>32.735413</td>\n",
       "      <td>-16.734430</td>\n",
       "      <td>0</td>\n",
       "      <td>gfw</td>\n",
       "      <td>trollers</td>\n",
       "    </tr>\n",
       "    <tr>\n",
       "      <th>28581397</th>\n",
       "      <td>2.145727e+14</td>\n",
       "      <td>1.479251e+09</td>\n",
       "      <td>0.0</td>\n",
       "      <td>24697.572266</td>\n",
       "      <td>0.0</td>\n",
       "      <td>88.699997</td>\n",
       "      <td>32.735428</td>\n",
       "      <td>-16.734396</td>\n",
       "      <td>0</td>\n",
       "      <td>gfw</td>\n",
       "      <td>trollers</td>\n",
       "    </tr>\n",
       "  </tbody>\n",
       "</table>\n",
       "<p>28027343 rows × 11 columns</p>\n",
       "</div>"
      ],
      "text/plain": [
       "                  mmsi     timestamp  distance_from_shore  distance_from_port  \\\n",
       "0         7.652701e+13  1.337836e+09                  0.0         3162.200195   \n",
       "1         7.652701e+13  1.338199e+09                  0.0         4999.877441   \n",
       "2         7.652701e+13  1.343752e+09                  0.0        66308.250000   \n",
       "3         7.652701e+13  1.350795e+09                  0.0        15296.682617   \n",
       "4         7.652701e+13  1.351808e+09                  0.0        15296.682617   \n",
       "...                ...           ...                  ...                 ...   \n",
       "28581393  2.145727e+14  1.478701e+09                  0.0        24697.572266   \n",
       "28581394  2.145727e+14  1.479122e+09                  0.0        24697.572266   \n",
       "28581395  2.145727e+14  1.479191e+09                  0.0        24697.572266   \n",
       "28581396  2.145727e+14  1.479202e+09                  0.0        24697.572266   \n",
       "28581397  2.145727e+14  1.479251e+09                  0.0        24697.572266   \n",
       "\n",
       "          speed      course        lat        lon  is_fishing source  \\\n",
       "0           0.0    0.000000  51.887592   4.356583           0    gfw   \n",
       "1           0.0    0.000000  51.242130   4.403008           0    gfw   \n",
       "2           8.6  292.200012  51.960873   5.196125           0    gfw   \n",
       "3           0.0    0.000000  51.231094   4.526647           0    gfw   \n",
       "4           0.0    0.000000  51.231098   4.526487           0    gfw   \n",
       "...         ...         ...        ...        ...         ...    ...   \n",
       "28581393    0.1  101.400002  32.735428 -16.734407           0    gfw   \n",
       "28581394    0.1  148.600006  32.735401 -16.734411           0    gfw   \n",
       "28581395    0.1  153.899994  32.735405 -16.734396           0    gfw   \n",
       "28581396    0.1  331.100006  32.735413 -16.734430           0    gfw   \n",
       "28581397    0.0   88.699997  32.735428 -16.734396           0    gfw   \n",
       "\n",
       "           gear_type  \n",
       "0         fixed_gear  \n",
       "1         fixed_gear  \n",
       "2         fixed_gear  \n",
       "3         fixed_gear  \n",
       "4         fixed_gear  \n",
       "...              ...  \n",
       "28581393    trollers  \n",
       "28581394    trollers  \n",
       "28581395    trollers  \n",
       "28581396    trollers  \n",
       "28581397    trollers  \n",
       "\n",
       "[28027343 rows x 11 columns]"
      ]
     },
     "execution_count": 284,
     "metadata": {},
     "output_type": "execute_result"
    }
   ],
   "source": [
    "#viewing the data with its new column \n",
    "no_fish_data"
   ]
  },
  {
   "cell_type": "markdown",
   "id": "5a512873",
   "metadata": {},
   "source": [
    "## Adding our newly predicted data back into the whole dataset "
   ]
  },
  {
   "cell_type": "code",
   "execution_count": 285,
   "id": "3f425048",
   "metadata": {},
   "outputs": [],
   "source": [
    "#dropping insatnces with no data from original data\n",
    "new_all_data_nf = all_data.drop(no_fishing_data)"
   ]
  },
  {
   "cell_type": "code",
   "execution_count": 286,
   "id": "7992d3ea",
   "metadata": {},
   "outputs": [],
   "source": [
    "#concatinating our newly predicted dataframe with our other original data\n",
    "new_all_data = pd.concat([new_all_data_nf,no_fish_data])\n"
   ]
  },
  {
   "cell_type": "code",
   "execution_count": 287,
   "id": "17dcfb43",
   "metadata": {},
   "outputs": [],
   "source": [
    "#sorting the data back into its orignal index \n",
    "new_all_data = new_all_data.sort_index()"
   ]
  },
  {
   "cell_type": "code",
   "execution_count": 288,
   "id": "edba6ffe",
   "metadata": {},
   "outputs": [],
   "source": [
    "#resseting index \n",
    "new_all_data = new_all_data.reset_index(drop = True)"
   ]
  },
  {
   "cell_type": "code",
   "execution_count": 289,
   "id": "80c569e9",
   "metadata": {},
   "outputs": [
    {
     "data": {
      "text/html": [
       "<div>\n",
       "<style scoped>\n",
       "    .dataframe tbody tr th:only-of-type {\n",
       "        vertical-align: middle;\n",
       "    }\n",
       "\n",
       "    .dataframe tbody tr th {\n",
       "        vertical-align: top;\n",
       "    }\n",
       "\n",
       "    .dataframe thead th {\n",
       "        text-align: right;\n",
       "    }\n",
       "</style>\n",
       "<table border=\"1\" class=\"dataframe\">\n",
       "  <thead>\n",
       "    <tr style=\"text-align: right;\">\n",
       "      <th></th>\n",
       "      <th>mmsi</th>\n",
       "      <th>timestamp</th>\n",
       "      <th>distance_from_shore</th>\n",
       "      <th>distance_from_port</th>\n",
       "      <th>speed</th>\n",
       "      <th>course</th>\n",
       "      <th>lat</th>\n",
       "      <th>lon</th>\n",
       "      <th>is_fishing</th>\n",
       "      <th>source</th>\n",
       "      <th>gear_type</th>\n",
       "    </tr>\n",
       "  </thead>\n",
       "  <tbody>\n",
       "    <tr>\n",
       "      <th>0</th>\n",
       "      <td>7.652701e+13</td>\n",
       "      <td>1.337836e+09</td>\n",
       "      <td>0.0</td>\n",
       "      <td>3162.200195</td>\n",
       "      <td>0.0</td>\n",
       "      <td>0.000000</td>\n",
       "      <td>51.887592</td>\n",
       "      <td>4.356583</td>\n",
       "      <td>0.0</td>\n",
       "      <td>gfw</td>\n",
       "      <td>fixed_gear</td>\n",
       "    </tr>\n",
       "    <tr>\n",
       "      <th>1</th>\n",
       "      <td>7.652701e+13</td>\n",
       "      <td>1.338199e+09</td>\n",
       "      <td>0.0</td>\n",
       "      <td>4999.877441</td>\n",
       "      <td>0.0</td>\n",
       "      <td>0.000000</td>\n",
       "      <td>51.242130</td>\n",
       "      <td>4.403008</td>\n",
       "      <td>0.0</td>\n",
       "      <td>gfw</td>\n",
       "      <td>fixed_gear</td>\n",
       "    </tr>\n",
       "    <tr>\n",
       "      <th>2</th>\n",
       "      <td>7.652701e+13</td>\n",
       "      <td>1.343752e+09</td>\n",
       "      <td>0.0</td>\n",
       "      <td>66308.250000</td>\n",
       "      <td>8.6</td>\n",
       "      <td>292.200012</td>\n",
       "      <td>51.960873</td>\n",
       "      <td>5.196125</td>\n",
       "      <td>0.0</td>\n",
       "      <td>gfw</td>\n",
       "      <td>fixed_gear</td>\n",
       "    </tr>\n",
       "    <tr>\n",
       "      <th>3</th>\n",
       "      <td>7.652701e+13</td>\n",
       "      <td>1.350795e+09</td>\n",
       "      <td>0.0</td>\n",
       "      <td>15296.682617</td>\n",
       "      <td>0.0</td>\n",
       "      <td>0.000000</td>\n",
       "      <td>51.231094</td>\n",
       "      <td>4.526647</td>\n",
       "      <td>0.0</td>\n",
       "      <td>gfw</td>\n",
       "      <td>fixed_gear</td>\n",
       "    </tr>\n",
       "    <tr>\n",
       "      <th>4</th>\n",
       "      <td>7.652701e+13</td>\n",
       "      <td>1.351808e+09</td>\n",
       "      <td>0.0</td>\n",
       "      <td>15296.682617</td>\n",
       "      <td>0.0</td>\n",
       "      <td>0.000000</td>\n",
       "      <td>51.231098</td>\n",
       "      <td>4.526487</td>\n",
       "      <td>0.0</td>\n",
       "      <td>gfw</td>\n",
       "      <td>fixed_gear</td>\n",
       "    </tr>\n",
       "    <tr>\n",
       "      <th>...</th>\n",
       "      <td>...</td>\n",
       "      <td>...</td>\n",
       "      <td>...</td>\n",
       "      <td>...</td>\n",
       "      <td>...</td>\n",
       "      <td>...</td>\n",
       "      <td>...</td>\n",
       "      <td>...</td>\n",
       "      <td>...</td>\n",
       "      <td>...</td>\n",
       "      <td>...</td>\n",
       "    </tr>\n",
       "    <tr>\n",
       "      <th>28581193</th>\n",
       "      <td>2.145727e+14</td>\n",
       "      <td>1.478701e+09</td>\n",
       "      <td>0.0</td>\n",
       "      <td>24697.572266</td>\n",
       "      <td>0.1</td>\n",
       "      <td>101.400002</td>\n",
       "      <td>32.735428</td>\n",
       "      <td>-16.734407</td>\n",
       "      <td>0.0</td>\n",
       "      <td>gfw</td>\n",
       "      <td>trollers</td>\n",
       "    </tr>\n",
       "    <tr>\n",
       "      <th>28581194</th>\n",
       "      <td>2.145727e+14</td>\n",
       "      <td>1.479122e+09</td>\n",
       "      <td>0.0</td>\n",
       "      <td>24697.572266</td>\n",
       "      <td>0.1</td>\n",
       "      <td>148.600006</td>\n",
       "      <td>32.735401</td>\n",
       "      <td>-16.734411</td>\n",
       "      <td>0.0</td>\n",
       "      <td>gfw</td>\n",
       "      <td>trollers</td>\n",
       "    </tr>\n",
       "    <tr>\n",
       "      <th>28581195</th>\n",
       "      <td>2.145727e+14</td>\n",
       "      <td>1.479191e+09</td>\n",
       "      <td>0.0</td>\n",
       "      <td>24697.572266</td>\n",
       "      <td>0.1</td>\n",
       "      <td>153.899994</td>\n",
       "      <td>32.735405</td>\n",
       "      <td>-16.734396</td>\n",
       "      <td>0.0</td>\n",
       "      <td>gfw</td>\n",
       "      <td>trollers</td>\n",
       "    </tr>\n",
       "    <tr>\n",
       "      <th>28581196</th>\n",
       "      <td>2.145727e+14</td>\n",
       "      <td>1.479202e+09</td>\n",
       "      <td>0.0</td>\n",
       "      <td>24697.572266</td>\n",
       "      <td>0.1</td>\n",
       "      <td>331.100006</td>\n",
       "      <td>32.735413</td>\n",
       "      <td>-16.734430</td>\n",
       "      <td>0.0</td>\n",
       "      <td>gfw</td>\n",
       "      <td>trollers</td>\n",
       "    </tr>\n",
       "    <tr>\n",
       "      <th>28581197</th>\n",
       "      <td>2.145727e+14</td>\n",
       "      <td>1.479251e+09</td>\n",
       "      <td>0.0</td>\n",
       "      <td>24697.572266</td>\n",
       "      <td>0.0</td>\n",
       "      <td>88.699997</td>\n",
       "      <td>32.735428</td>\n",
       "      <td>-16.734396</td>\n",
       "      <td>0.0</td>\n",
       "      <td>gfw</td>\n",
       "      <td>trollers</td>\n",
       "    </tr>\n",
       "  </tbody>\n",
       "</table>\n",
       "<p>28581198 rows × 11 columns</p>\n",
       "</div>"
      ],
      "text/plain": [
       "                  mmsi     timestamp  distance_from_shore  distance_from_port  \\\n",
       "0         7.652701e+13  1.337836e+09                  0.0         3162.200195   \n",
       "1         7.652701e+13  1.338199e+09                  0.0         4999.877441   \n",
       "2         7.652701e+13  1.343752e+09                  0.0        66308.250000   \n",
       "3         7.652701e+13  1.350795e+09                  0.0        15296.682617   \n",
       "4         7.652701e+13  1.351808e+09                  0.0        15296.682617   \n",
       "...                ...           ...                  ...                 ...   \n",
       "28581193  2.145727e+14  1.478701e+09                  0.0        24697.572266   \n",
       "28581194  2.145727e+14  1.479122e+09                  0.0        24697.572266   \n",
       "28581195  2.145727e+14  1.479191e+09                  0.0        24697.572266   \n",
       "28581196  2.145727e+14  1.479202e+09                  0.0        24697.572266   \n",
       "28581197  2.145727e+14  1.479251e+09                  0.0        24697.572266   \n",
       "\n",
       "          speed      course        lat        lon  is_fishing source  \\\n",
       "0           0.0    0.000000  51.887592   4.356583         0.0    gfw   \n",
       "1           0.0    0.000000  51.242130   4.403008         0.0    gfw   \n",
       "2           8.6  292.200012  51.960873   5.196125         0.0    gfw   \n",
       "3           0.0    0.000000  51.231094   4.526647         0.0    gfw   \n",
       "4           0.0    0.000000  51.231098   4.526487         0.0    gfw   \n",
       "...         ...         ...        ...        ...         ...    ...   \n",
       "28581193    0.1  101.400002  32.735428 -16.734407         0.0    gfw   \n",
       "28581194    0.1  148.600006  32.735401 -16.734411         0.0    gfw   \n",
       "28581195    0.1  153.899994  32.735405 -16.734396         0.0    gfw   \n",
       "28581196    0.1  331.100006  32.735413 -16.734430         0.0    gfw   \n",
       "28581197    0.0   88.699997  32.735428 -16.734396         0.0    gfw   \n",
       "\n",
       "           gear_type  \n",
       "0         fixed_gear  \n",
       "1         fixed_gear  \n",
       "2         fixed_gear  \n",
       "3         fixed_gear  \n",
       "4         fixed_gear  \n",
       "...              ...  \n",
       "28581193    trollers  \n",
       "28581194    trollers  \n",
       "28581195    trollers  \n",
       "28581196    trollers  \n",
       "28581197    trollers  \n",
       "\n",
       "[28581198 rows x 11 columns]"
      ]
     },
     "execution_count": 289,
     "metadata": {},
     "output_type": "execute_result"
    }
   ],
   "source": [
    "new_all_data"
   ]
  },
  {
   "cell_type": "markdown",
   "id": "073873d6",
   "metadata": {},
   "source": [
    "### We have basically finished up our machine learning back end of this project\n",
    "### Now we will create dataframes based on location for the next part of this project in order to predict if boats of the west coast of the United States are fishing legally or not"
   ]
  },
  {
   "cell_type": "code",
   "execution_count": 148,
   "id": "2226bb04",
   "metadata": {},
   "outputs": [],
   "source": [
    "#Creating a list with only entries off of the coast of california, oregon, and washington \n",
    "new_west = []\n",
    "for i in range(len(new_all_data)):\n",
    "    if 32.5<new_all_data.lat[i]<46.54  and -130<new_all_data.lon[i]<-115:\n",
    "        new_west.append(i)\n",
    "  "
   ]
  },
  {
   "cell_type": "code",
   "execution_count": 149,
   "id": "630a95bf",
   "metadata": {},
   "outputs": [
    {
     "data": {
      "text/plain": [
       "107240"
      ]
     },
     "execution_count": 149,
     "metadata": {},
     "output_type": "execute_result"
    }
   ],
   "source": [
    "#looking to see how many instances this is \n",
    "len(new_west)"
   ]
  },
  {
   "cell_type": "code",
   "execution_count": 152,
   "id": "d3851e09",
   "metadata": {},
   "outputs": [
    {
     "data": {
      "text/html": [
       "<div>\n",
       "<style scoped>\n",
       "    .dataframe tbody tr th:only-of-type {\n",
       "        vertical-align: middle;\n",
       "    }\n",
       "\n",
       "    .dataframe tbody tr th {\n",
       "        vertical-align: top;\n",
       "    }\n",
       "\n",
       "    .dataframe thead th {\n",
       "        text-align: right;\n",
       "    }\n",
       "</style>\n",
       "<table border=\"1\" class=\"dataframe\">\n",
       "  <thead>\n",
       "    <tr style=\"text-align: right;\">\n",
       "      <th></th>\n",
       "      <th>mmsi</th>\n",
       "      <th>timestamp</th>\n",
       "      <th>distance_from_shore</th>\n",
       "      <th>distance_from_port</th>\n",
       "      <th>speed</th>\n",
       "      <th>course</th>\n",
       "      <th>lat</th>\n",
       "      <th>lon</th>\n",
       "      <th>is_fishing</th>\n",
       "      <th>source</th>\n",
       "      <th>gear_type</th>\n",
       "    </tr>\n",
       "  </thead>\n",
       "  <tbody>\n",
       "    <tr>\n",
       "      <th>0</th>\n",
       "      <td>1.259544e+14</td>\n",
       "      <td>1.439419e+09</td>\n",
       "      <td>0.0</td>\n",
       "      <td>999.975464</td>\n",
       "      <td>0.0</td>\n",
       "      <td>302.399994</td>\n",
       "      <td>44.627125</td>\n",
       "      <td>-124.055397</td>\n",
       "      <td>0.0</td>\n",
       "      <td>gfw</td>\n",
       "      <td>trollers</td>\n",
       "    </tr>\n",
       "    <tr>\n",
       "      <th>1</th>\n",
       "      <td>1.259544e+14</td>\n",
       "      <td>1.439421e+09</td>\n",
       "      <td>0.0</td>\n",
       "      <td>999.975464</td>\n",
       "      <td>0.0</td>\n",
       "      <td>271.799988</td>\n",
       "      <td>44.627121</td>\n",
       "      <td>-124.055389</td>\n",
       "      <td>0.0</td>\n",
       "      <td>gfw</td>\n",
       "      <td>trollers</td>\n",
       "    </tr>\n",
       "    <tr>\n",
       "      <th>2</th>\n",
       "      <td>1.259544e+14</td>\n",
       "      <td>1.439421e+09</td>\n",
       "      <td>0.0</td>\n",
       "      <td>999.975464</td>\n",
       "      <td>0.0</td>\n",
       "      <td>304.899994</td>\n",
       "      <td>44.627102</td>\n",
       "      <td>-124.055428</td>\n",
       "      <td>0.0</td>\n",
       "      <td>gfw</td>\n",
       "      <td>trollers</td>\n",
       "    </tr>\n",
       "    <tr>\n",
       "      <th>3</th>\n",
       "      <td>1.259544e+14</td>\n",
       "      <td>1.439422e+09</td>\n",
       "      <td>0.0</td>\n",
       "      <td>999.975464</td>\n",
       "      <td>0.0</td>\n",
       "      <td>330.500000</td>\n",
       "      <td>44.627132</td>\n",
       "      <td>-124.055389</td>\n",
       "      <td>0.0</td>\n",
       "      <td>gfw</td>\n",
       "      <td>trollers</td>\n",
       "    </tr>\n",
       "    <tr>\n",
       "      <th>4</th>\n",
       "      <td>1.259544e+14</td>\n",
       "      <td>1.439425e+09</td>\n",
       "      <td>0.0</td>\n",
       "      <td>999.975464</td>\n",
       "      <td>0.0</td>\n",
       "      <td>4.100000</td>\n",
       "      <td>44.627117</td>\n",
       "      <td>-124.055389</td>\n",
       "      <td>0.0</td>\n",
       "      <td>gfw</td>\n",
       "      <td>trollers</td>\n",
       "    </tr>\n",
       "    <tr>\n",
       "      <th>...</th>\n",
       "      <td>...</td>\n",
       "      <td>...</td>\n",
       "      <td>...</td>\n",
       "      <td>...</td>\n",
       "      <td>...</td>\n",
       "      <td>...</td>\n",
       "      <td>...</td>\n",
       "      <td>...</td>\n",
       "      <td>...</td>\n",
       "      <td>...</td>\n",
       "      <td>...</td>\n",
       "    </tr>\n",
       "    <tr>\n",
       "      <th>107235</th>\n",
       "      <td>2.296758e+14</td>\n",
       "      <td>1.480032e+09</td>\n",
       "      <td>0.0</td>\n",
       "      <td>999.975464</td>\n",
       "      <td>0.0</td>\n",
       "      <td>257.399994</td>\n",
       "      <td>46.200233</td>\n",
       "      <td>-123.758881</td>\n",
       "      <td>0.0</td>\n",
       "      <td>gfw</td>\n",
       "      <td>unknown</td>\n",
       "    </tr>\n",
       "    <tr>\n",
       "      <th>107236</th>\n",
       "      <td>2.296758e+14</td>\n",
       "      <td>1.480032e+09</td>\n",
       "      <td>0.0</td>\n",
       "      <td>999.975464</td>\n",
       "      <td>0.0</td>\n",
       "      <td>255.300003</td>\n",
       "      <td>46.200241</td>\n",
       "      <td>-123.758881</td>\n",
       "      <td>0.0</td>\n",
       "      <td>gfw</td>\n",
       "      <td>unknown</td>\n",
       "    </tr>\n",
       "    <tr>\n",
       "      <th>107237</th>\n",
       "      <td>2.296758e+14</td>\n",
       "      <td>1.480032e+09</td>\n",
       "      <td>0.0</td>\n",
       "      <td>999.975464</td>\n",
       "      <td>0.0</td>\n",
       "      <td>247.600006</td>\n",
       "      <td>46.200226</td>\n",
       "      <td>-123.758881</td>\n",
       "      <td>0.0</td>\n",
       "      <td>gfw</td>\n",
       "      <td>unknown</td>\n",
       "    </tr>\n",
       "    <tr>\n",
       "      <th>107238</th>\n",
       "      <td>2.296758e+14</td>\n",
       "      <td>1.480032e+09</td>\n",
       "      <td>0.0</td>\n",
       "      <td>999.975464</td>\n",
       "      <td>0.0</td>\n",
       "      <td>226.500000</td>\n",
       "      <td>46.200226</td>\n",
       "      <td>-123.758904</td>\n",
       "      <td>0.0</td>\n",
       "      <td>gfw</td>\n",
       "      <td>unknown</td>\n",
       "    </tr>\n",
       "    <tr>\n",
       "      <th>107239</th>\n",
       "      <td>2.296758e+14</td>\n",
       "      <td>1.480032e+09</td>\n",
       "      <td>0.0</td>\n",
       "      <td>999.975464</td>\n",
       "      <td>0.0</td>\n",
       "      <td>228.699997</td>\n",
       "      <td>46.200226</td>\n",
       "      <td>-123.758904</td>\n",
       "      <td>0.0</td>\n",
       "      <td>gfw</td>\n",
       "      <td>unknown</td>\n",
       "    </tr>\n",
       "  </tbody>\n",
       "</table>\n",
       "<p>107240 rows × 11 columns</p>\n",
       "</div>"
      ],
      "text/plain": [
       "                mmsi     timestamp  distance_from_shore  distance_from_port  \\\n",
       "0       1.259544e+14  1.439419e+09                  0.0          999.975464   \n",
       "1       1.259544e+14  1.439421e+09                  0.0          999.975464   \n",
       "2       1.259544e+14  1.439421e+09                  0.0          999.975464   \n",
       "3       1.259544e+14  1.439422e+09                  0.0          999.975464   \n",
       "4       1.259544e+14  1.439425e+09                  0.0          999.975464   \n",
       "...              ...           ...                  ...                 ...   \n",
       "107235  2.296758e+14  1.480032e+09                  0.0          999.975464   \n",
       "107236  2.296758e+14  1.480032e+09                  0.0          999.975464   \n",
       "107237  2.296758e+14  1.480032e+09                  0.0          999.975464   \n",
       "107238  2.296758e+14  1.480032e+09                  0.0          999.975464   \n",
       "107239  2.296758e+14  1.480032e+09                  0.0          999.975464   \n",
       "\n",
       "        speed      course        lat         lon  is_fishing source gear_type  \n",
       "0         0.0  302.399994  44.627125 -124.055397         0.0    gfw  trollers  \n",
       "1         0.0  271.799988  44.627121 -124.055389         0.0    gfw  trollers  \n",
       "2         0.0  304.899994  44.627102 -124.055428         0.0    gfw  trollers  \n",
       "3         0.0  330.500000  44.627132 -124.055389         0.0    gfw  trollers  \n",
       "4         0.0    4.100000  44.627117 -124.055389         0.0    gfw  trollers  \n",
       "...       ...         ...        ...         ...         ...    ...       ...  \n",
       "107235    0.0  257.399994  46.200233 -123.758881         0.0    gfw   unknown  \n",
       "107236    0.0  255.300003  46.200241 -123.758881         0.0    gfw   unknown  \n",
       "107237    0.0  247.600006  46.200226 -123.758881         0.0    gfw   unknown  \n",
       "107238    0.0  226.500000  46.200226 -123.758904         0.0    gfw   unknown  \n",
       "107239    0.0  228.699997  46.200226 -123.758904         0.0    gfw   unknown  \n",
       "\n",
       "[107240 rows x 11 columns]"
      ]
     },
     "execution_count": 152,
     "metadata": {},
     "output_type": "execute_result"
    }
   ],
   "source": [
    "#Creating our west coast dataframe \n",
    "westcoast_eez= new_all_data.iloc[new_west]\n",
    "westcoast_eez = westcoast_eez.reset_index(drop = True)\n",
    "westcoast_eez"
   ]
  },
  {
   "cell_type": "markdown",
   "id": "b4f3e74c",
   "metadata": {},
   "source": [
    "### I decided to repeat this process for Alaska and Hawaii because of the lack of data off of the west coast alone"
   ]
  },
  {
   "cell_type": "code",
   "execution_count": 174,
   "id": "0f5365eb",
   "metadata": {},
   "outputs": [],
   "source": [
    "#creating list of AK instances\n",
    "ak = []\n",
    "for i in range(len(new_all_data)):\n",
    "    if 170<new_all_data.lon[i]<180 or -180<new_all_data.lon[i]<-129.9819:\n",
    "        if 47.8764<new_all_data.lat[i]<74.7088:\n",
    "            ak.append(i)\n",
    "  "
   ]
  },
  {
   "cell_type": "code",
   "execution_count": 175,
   "id": "e4a2e9fd",
   "metadata": {},
   "outputs": [
    {
     "data": {
      "text/html": [
       "<div>\n",
       "<style scoped>\n",
       "    .dataframe tbody tr th:only-of-type {\n",
       "        vertical-align: middle;\n",
       "    }\n",
       "\n",
       "    .dataframe tbody tr th {\n",
       "        vertical-align: top;\n",
       "    }\n",
       "\n",
       "    .dataframe thead th {\n",
       "        text-align: right;\n",
       "    }\n",
       "</style>\n",
       "<table border=\"1\" class=\"dataframe\">\n",
       "  <thead>\n",
       "    <tr style=\"text-align: right;\">\n",
       "      <th></th>\n",
       "      <th>mmsi</th>\n",
       "      <th>timestamp</th>\n",
       "      <th>distance_from_shore</th>\n",
       "      <th>distance_from_port</th>\n",
       "      <th>speed</th>\n",
       "      <th>course</th>\n",
       "      <th>lat</th>\n",
       "      <th>lon</th>\n",
       "      <th>is_fishing</th>\n",
       "      <th>source</th>\n",
       "      <th>gear_type</th>\n",
       "    </tr>\n",
       "  </thead>\n",
       "  <tbody>\n",
       "    <tr>\n",
       "      <th>0</th>\n",
       "      <td>1.252340e+12</td>\n",
       "      <td>1.377315e+09</td>\n",
       "      <td>135070.734375</td>\n",
       "      <td>246044.78125</td>\n",
       "      <td>3.200000</td>\n",
       "      <td>159.000000</td>\n",
       "      <td>52.458599</td>\n",
       "      <td>-167.559769</td>\n",
       "      <td>1.0</td>\n",
       "      <td>gfw</td>\n",
       "      <td>trawlers</td>\n",
       "    </tr>\n",
       "    <tr>\n",
       "      <th>1</th>\n",
       "      <td>5.110130e+13</td>\n",
       "      <td>1.439794e+09</td>\n",
       "      <td>783016.562500</td>\n",
       "      <td>886824.93750</td>\n",
       "      <td>3.400000</td>\n",
       "      <td>29.799999</td>\n",
       "      <td>52.788227</td>\n",
       "      <td>-150.730576</td>\n",
       "      <td>1.0</td>\n",
       "      <td>gfw</td>\n",
       "      <td>trawlers</td>\n",
       "    </tr>\n",
       "    <tr>\n",
       "      <th>2</th>\n",
       "      <td>5.110130e+13</td>\n",
       "      <td>1.477888e+09</td>\n",
       "      <td>48258.527344</td>\n",
       "      <td>100799.31250</td>\n",
       "      <td>5.700000</td>\n",
       "      <td>4.800000</td>\n",
       "      <td>53.270294</td>\n",
       "      <td>172.695465</td>\n",
       "      <td>1.0</td>\n",
       "      <td>gfw</td>\n",
       "      <td>trawlers</td>\n",
       "    </tr>\n",
       "    <tr>\n",
       "      <th>3</th>\n",
       "      <td>1.214265e+14</td>\n",
       "      <td>1.442000e+09</td>\n",
       "      <td>219667.093750</td>\n",
       "      <td>291197.25000</td>\n",
       "      <td>51.200001</td>\n",
       "      <td>163.000000</td>\n",
       "      <td>52.266499</td>\n",
       "      <td>170.783997</td>\n",
       "      <td>0.0</td>\n",
       "      <td>gfw</td>\n",
       "      <td>trawlers</td>\n",
       "    </tr>\n",
       "    <tr>\n",
       "      <th>4</th>\n",
       "      <td>1.924269e+14</td>\n",
       "      <td>1.428801e+09</td>\n",
       "      <td>279424.718750</td>\n",
       "      <td>325975.12500</td>\n",
       "      <td>76.800003</td>\n",
       "      <td>235.000000</td>\n",
       "      <td>51.445686</td>\n",
       "      <td>171.361420</td>\n",
       "      <td>1.0</td>\n",
       "      <td>gfw</td>\n",
       "      <td>trawlers</td>\n",
       "    </tr>\n",
       "    <tr>\n",
       "      <th>...</th>\n",
       "      <td>...</td>\n",
       "      <td>...</td>\n",
       "      <td>...</td>\n",
       "      <td>...</td>\n",
       "      <td>...</td>\n",
       "      <td>...</td>\n",
       "      <td>...</td>\n",
       "      <td>...</td>\n",
       "      <td>...</td>\n",
       "      <td>...</td>\n",
       "      <td>...</td>\n",
       "    </tr>\n",
       "    <tr>\n",
       "      <th>427484</th>\n",
       "      <td>2.296758e+14</td>\n",
       "      <td>1.474424e+09</td>\n",
       "      <td>131924.765625</td>\n",
       "      <td>284864.90625</td>\n",
       "      <td>9.400000</td>\n",
       "      <td>133.399994</td>\n",
       "      <td>51.190495</td>\n",
       "      <td>-130.152420</td>\n",
       "      <td>0.0</td>\n",
       "      <td>gfw</td>\n",
       "      <td>unknown</td>\n",
       "    </tr>\n",
       "    <tr>\n",
       "      <th>427485</th>\n",
       "      <td>2.296758e+14</td>\n",
       "      <td>1.474426e+09</td>\n",
       "      <td>120765.406250</td>\n",
       "      <td>282329.75000</td>\n",
       "      <td>8.900000</td>\n",
       "      <td>129.399994</td>\n",
       "      <td>51.149391</td>\n",
       "      <td>-130.079819</td>\n",
       "      <td>0.0</td>\n",
       "      <td>gfw</td>\n",
       "      <td>unknown</td>\n",
       "    </tr>\n",
       "    <tr>\n",
       "      <th>427486</th>\n",
       "      <td>2.296758e+14</td>\n",
       "      <td>1.474426e+09</td>\n",
       "      <td>119863.648438</td>\n",
       "      <td>281569.03125</td>\n",
       "      <td>8.400000</td>\n",
       "      <td>136.199997</td>\n",
       "      <td>51.142899</td>\n",
       "      <td>-130.068695</td>\n",
       "      <td>0.0</td>\n",
       "      <td>gfw</td>\n",
       "      <td>unknown</td>\n",
       "    </tr>\n",
       "    <tr>\n",
       "      <th>427487</th>\n",
       "      <td>2.296758e+14</td>\n",
       "      <td>1.474427e+09</td>\n",
       "      <td>113213.828125</td>\n",
       "      <td>281106.96875</td>\n",
       "      <td>7.900000</td>\n",
       "      <td>131.399994</td>\n",
       "      <td>51.120838</td>\n",
       "      <td>-130.029739</td>\n",
       "      <td>0.0</td>\n",
       "      <td>gfw</td>\n",
       "      <td>unknown</td>\n",
       "    </tr>\n",
       "    <tr>\n",
       "      <th>427488</th>\n",
       "      <td>2.296758e+14</td>\n",
       "      <td>1.474427e+09</td>\n",
       "      <td>110568.531250</td>\n",
       "      <td>280971.75000</td>\n",
       "      <td>7.800000</td>\n",
       "      <td>128.699997</td>\n",
       "      <td>51.109276</td>\n",
       "      <td>-130.007553</td>\n",
       "      <td>0.0</td>\n",
       "      <td>gfw</td>\n",
       "      <td>unknown</td>\n",
       "    </tr>\n",
       "  </tbody>\n",
       "</table>\n",
       "<p>427489 rows × 11 columns</p>\n",
       "</div>"
      ],
      "text/plain": [
       "                mmsi     timestamp  distance_from_shore  distance_from_port  \\\n",
       "0       1.252340e+12  1.377315e+09        135070.734375        246044.78125   \n",
       "1       5.110130e+13  1.439794e+09        783016.562500        886824.93750   \n",
       "2       5.110130e+13  1.477888e+09         48258.527344        100799.31250   \n",
       "3       1.214265e+14  1.442000e+09        219667.093750        291197.25000   \n",
       "4       1.924269e+14  1.428801e+09        279424.718750        325975.12500   \n",
       "...              ...           ...                  ...                 ...   \n",
       "427484  2.296758e+14  1.474424e+09        131924.765625        284864.90625   \n",
       "427485  2.296758e+14  1.474426e+09        120765.406250        282329.75000   \n",
       "427486  2.296758e+14  1.474426e+09        119863.648438        281569.03125   \n",
       "427487  2.296758e+14  1.474427e+09        113213.828125        281106.96875   \n",
       "427488  2.296758e+14  1.474427e+09        110568.531250        280971.75000   \n",
       "\n",
       "            speed      course        lat         lon  is_fishing source  \\\n",
       "0        3.200000  159.000000  52.458599 -167.559769         1.0    gfw   \n",
       "1        3.400000   29.799999  52.788227 -150.730576         1.0    gfw   \n",
       "2        5.700000    4.800000  53.270294  172.695465         1.0    gfw   \n",
       "3       51.200001  163.000000  52.266499  170.783997         0.0    gfw   \n",
       "4       76.800003  235.000000  51.445686  171.361420         1.0    gfw   \n",
       "...           ...         ...        ...         ...         ...    ...   \n",
       "427484   9.400000  133.399994  51.190495 -130.152420         0.0    gfw   \n",
       "427485   8.900000  129.399994  51.149391 -130.079819         0.0    gfw   \n",
       "427486   8.400000  136.199997  51.142899 -130.068695         0.0    gfw   \n",
       "427487   7.900000  131.399994  51.120838 -130.029739         0.0    gfw   \n",
       "427488   7.800000  128.699997  51.109276 -130.007553         0.0    gfw   \n",
       "\n",
       "       gear_type  \n",
       "0       trawlers  \n",
       "1       trawlers  \n",
       "2       trawlers  \n",
       "3       trawlers  \n",
       "4       trawlers  \n",
       "...          ...  \n",
       "427484   unknown  \n",
       "427485   unknown  \n",
       "427486   unknown  \n",
       "427487   unknown  \n",
       "427488   unknown  \n",
       "\n",
       "[427489 rows x 11 columns]"
      ]
     },
     "execution_count": 175,
     "metadata": {},
     "output_type": "execute_result"
    }
   ],
   "source": [
    "#Creating data frame \n",
    "ak_eez= new_all_data.iloc[ak]\n",
    "ak_eez = ak_eez.reset_index(drop = True)\n",
    "ak_eez"
   ]
  },
  {
   "cell_type": "code",
   "execution_count": null,
   "id": "9b8a3927",
   "metadata": {},
   "outputs": [],
   "source": [
    "#creating list of hawaiian instances \n",
    "hi = []\n",
    "for i in range(len(new_all_data)):\n",
    "    if 15.5631<new_all_data.lat[i]<31.7979 and -177.9<new_all_data.lon[i]<-151.2768:\n",
    "        hi.append(i)"
   ]
  },
  {
   "cell_type": "code",
   "execution_count": null,
   "id": "d1a36075",
   "metadata": {},
   "outputs": [],
   "source": [
    "#creating hawaiian data frame\n",
    "hi_eez= new_all_data.iloc[hi]\n",
    "hi_eez = hi_eez.reset_index(drop = True)\n",
    "hi_eez"
   ]
  },
  {
   "cell_type": "markdown",
   "id": "ae85cd4c",
   "metadata": {},
   "source": [
    "### Saving these databases and moving to other jupyter notebook for graphical representaion"
   ]
  },
  {
   "cell_type": "code",
   "execution_count": 166,
   "id": "8bc2e700",
   "metadata": {},
   "outputs": [],
   "source": [
    "westcoast_eez.to_csv('westcoast.csv',index = False)"
   ]
  },
  {
   "cell_type": "code",
   "execution_count": null,
   "id": "78bb0fe1",
   "metadata": {},
   "outputs": [],
   "source": [
    "hi_eez.to_csv('hi.csv',index = False)"
   ]
  },
  {
   "cell_type": "code",
   "execution_count": 176,
   "id": "20463af6",
   "metadata": {},
   "outputs": [],
   "source": [
    "ak_eez.to_csv('ak.csv',index = False)"
   ]
  },
  {
   "cell_type": "code",
   "execution_count": null,
   "id": "85d0c2f2",
   "metadata": {},
   "outputs": [],
   "source": []
  }
 ],
 "metadata": {
  "kernelspec": {
   "display_name": "Python 3",
   "language": "python",
   "name": "python3"
  },
  "language_info": {
   "codemirror_mode": {
    "name": "ipython",
    "version": 3
   },
   "file_extension": ".py",
   "mimetype": "text/x-python",
   "name": "python",
   "nbconvert_exporter": "python",
   "pygments_lexer": "ipython3",
   "version": "3.7.7"
  }
 },
 "nbformat": 4,
 "nbformat_minor": 5
}
